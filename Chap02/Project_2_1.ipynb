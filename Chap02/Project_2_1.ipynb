{
 "cells": [
  {
   "cell_type": "markdown",
   "id": "8b02f528",
   "metadata": {},
   "source": [
    "Copyright (c) 2023, Douglas Santry\n",
    "All rights reserved.\n",
    "\n",
    "Redistribution and use in source and binary forms, with or without\n",
    "modification, is permitted provided that the following conditions are met:\n",
    "\n",
    "1. Redistributions of source code must retain the above copyright notice, this\n",
    "   list of conditions and the following disclaimer.\n",
    "2. Redistributions in binary form must reproduce the above copyright notice,\n",
    "   this list of conditions and the following disclaimer in the documentation\n",
    "   and/or other materials provided with the distribution.\n",
    "\n",
    "THIS SOFTWARE IS PROVIDED BY THE COPYRIGHT HOLDERS AND CONTRIBUTORS \"AS IS\" AND\n",
    "ANY EXPRESS OR IMPLIED WARRANTIES, INCLUDING, BUT NOT LIMITED TO, THE IMPLIED\n",
    "WARRANTIES OF MERCHANTABILITY AND FITNESS FOR A PARTICULAR PURPOSE ARE\n",
    "DISCLAIMED. IN NO EVENT SHALL THE COPYRIGHT OWNER OR CONTRIBUTORS BE LIABLE FOR\n",
    "ANY DIRECT, INDIRECT, INCIDENTAL, SPECIAL, EXEMPLARY, OR CONSEQUENTIAL DAMAGES\n",
    "(INCLUDING, BUT NOT LIMITED TO, PROCUREMENT OF SUBSTITUTE GOODS OR SERVICES;\n",
    "LOSS OF USE, DATA, OR PROFITS; OR BUSINESS INTERRUPTION) HOWEVER CAUSED AND\n",
    "ON ANY THEORY OF LIABILITY, WHETHER IN CONTRACT, STRICT LIABILITY, OR TORT\n",
    "(INCLUDING NEGLIGENCE OR OTHERWISE) ARISING IN ANY WAY OUT OF THE USE OF THIS\n",
    "SOFTWARE, EVEN IF ADVISED OF THE POSSIBILITY OF SUCH DAMAGE."
   ]
  },
  {
   "cell_type": "code",
   "execution_count": 1,
   "id": "ef0c5f05",
   "metadata": {},
   "outputs": [],
   "source": [
    "import numpy as np\n",
    "import matplotlib.pyplot as plt\n",
    "\n",
    "from math import sin as sin\n",
    "from math import exp as exp"
   ]
  },
  {
   "cell_type": "code",
   "execution_count": 2,
   "id": "29b26661",
   "metadata": {},
   "outputs": [],
   "source": [
    "\n",
    "pi_2 = 3.1415926 / 2\n"
   ]
  },
  {
   "cell_type": "code",
   "execution_count": 3,
   "id": "c6dfff67",
   "metadata": {},
   "outputs": [],
   "source": [
    "def sigmoid (x):\n",
    "    return 1/(1+exp(-x))\n",
    "\n",
    "sigmoid_v = np.vectorize (sigmoid)"
   ]
  },
  {
   "cell_type": "code",
   "execution_count": 4,
   "id": "c725b938",
   "metadata": {},
   "outputs": [
    {
     "data": {
      "text/plain": [
       "array([[1],\n",
       "       [2],\n",
       "       [3]])"
      ]
     },
     "execution_count": 4,
     "metadata": {},
     "output_type": "execute_result"
    }
   ],
   "source": [
    "I = np.array ([[1,0,0], [0,1,0],[0,0,1]])\n",
    "\n",
    "x = np.array ([[1], [2], [3]])\n",
    "\n",
    "I@x"
   ]
  },
  {
   "cell_type": "code",
   "execution_count": 5,
   "id": "ec0883cb",
   "metadata": {},
   "outputs": [
    {
     "name": "stdout",
     "output_type": "stream",
     "text": [
      "(3, 1)\n",
      "(2, 3)\n",
      "(1, 2)\n"
     ]
    }
   ],
   "source": [
    "Weights = [np.array ([[-0.49421405657408518097284400028002],[-3.43409918734022978625830546661746],[66.29558366667795610283064888790250]]),\n",
    "           np.array ([[-0.35327697052871309679744626919273, -6.05757670107317025554038991685957, 3.90287636561878414909187995363027],\n",
    "                      [-4.47446909754507693435243709245697, -13.56399011496174722424257197417319, 1.07225710184653633127993543894263]]),\n",
    "           np.array ([[4.72503019102995480693607532884926,12.22132436531355814679500326747075]])]\n",
    "\n",
    "for W in Weights:\n",
    "    print (np.shape (W))"
   ]
  },
  {
   "cell_type": "code",
   "execution_count": 6,
   "id": "632bcbf7",
   "metadata": {},
   "outputs": [],
   "source": [
    "biases = [[np.array ([[-0.76270942225276860959581881616032],[0.92361463807487653721040032905876],[-4.55609201337802449671698923339136]])],\n",
    "          [np.array ([[-0.37154797977066400527235146000749],[0.17007561602030432656995628803998]])],\n",
    "          [np.array ([[-3.21387996636613904044565970252734]])]]"
   ]
  },
  {
   "cell_type": "code",
   "execution_count": 7,
   "id": "3247f55a",
   "metadata": {},
   "outputs": [],
   "source": [
    "def sine (x):\n",
    "    \n",
    "    z = np.array ([[x]])\n",
    "    \n",
    "    for W,b in zip (Weights, biases):\n",
    "\n",
    "        # print (np.shape (z))\n",
    "\n",
    "        z_ = W@z\n",
    "        z_ = z_ + b\n",
    "        z = sigmoid_v (z_)\n",
    "        # print (z)\n",
    "\n",
    "        \n",
    "    return z[0][0]\n"
   ]
  },
  {
   "cell_type": "code",
   "execution_count": 8,
   "id": "9011f66c",
   "metadata": {},
   "outputs": [],
   "source": [
    "sine_curve = []\n",
    "\n",
    "for theta in np.arange (0, pi_2, pi_2 / 25):\n",
    "    sine_curve.append (sine (theta))"
   ]
  },
  {
   "cell_type": "code",
   "execution_count": 9,
   "id": "4034390e",
   "metadata": {},
   "outputs": [
    {
     "data": {
      "text/plain": [
       "[<matplotlib.lines.Line2D at 0x113db3d90>]"
      ]
     },
     "execution_count": 9,
     "metadata": {},
     "output_type": "execute_result"
    },
    {
     "data": {
      "image/png": "[encoded data removed]",
      "text/plain": [
       "<Figure size 432x288 with 1 Axes>"
      ]
     },
     "metadata": {
      "needs_background": "light"
     },
     "output_type": "display_data"
    }
   ],
   "source": [
    "plt.plot (sine_curve)"
   ]
  }
 ],
 "metadata": {
  "kernelspec": {
   "display_name": "Python 3 (ipykernel)",
   "language": "python",
   "name": "python3"
  },
  "language_info": {
   "codemirror_mode": {
    "name": "ipython",
    "version": 3
   },
   "file_extension": ".py",
   "mimetype": "text/x-python",
   "name": "python",
   "nbconvert_exporter": "python",
   "pygments_lexer": "ipython3",
   "version": "3.9.10"
  }
 },
 "nbformat": 4,
 "nbformat_minor": 5
}
