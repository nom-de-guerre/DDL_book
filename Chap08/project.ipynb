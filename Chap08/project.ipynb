{
 "cells": [
  {
   "cell_type": "code",
   "execution_count": 1,
   "id": "2727cc0c-e783-4ed5-a98b-dc59fd9c2ef5",
   "metadata": {},
   "outputs": [],
   "source": [
    "from keras.models import Sequential\n",
    "from keras.layers import Dense\n",
    "\n",
    "import matplotlib.pyplot as plt\n",
    "from math import sin as sine"
   ]
  },
  {
   "cell_type": "code",
   "execution_count": 2,
   "id": "6e6ab14a-d983-49ab-bc30-7f0cdd86b38f",
   "metadata": {},
   "outputs": [],
   "source": [
    "# x = { 0 ... 31 }\n",
    "x = list (range (0, 32))\n",
    "\n",
    "# π/2 radians (90 degrees)\n",
    "pi_2 = 3.1415926 / 2\n",
    "\n",
    "# The increment\n",
    "alpha = pi_2 / 32\n",
    "\n",
    "# x_radians = { 0 ... π/2 }\n",
    "x_radians = list (map (lambda x: alpha * x, x))\n",
    "\n",
    "# y = { sine (x0) ... , sine (x31) }\n",
    "y = list (map (lambda x: sine (x), x_radians))\n",
    "\n",
    "# Normalize, 0 ≤ x ≤ 1\n",
    "xN = list (map (lambda x: x / pi_2, x_radians))"
   ]
  },
  {
   "cell_type": "code",
   "execution_count": 3,
   "id": "8e0d8bb9-55ca-48ff-afa5-a4e81a0cd39e",
   "metadata": {},
   "outputs": [
    {
     "name": "stdout",
     "output_type": "stream",
     "text": [
      "Metal device set to: Apple M1\n",
      "Model: \"sequential\"\n",
      "_________________________________________________________________\n",
      " Layer (type)                Output Shape              Param #   \n",
      "=================================================================\n",
      " dense (Dense)               (None, 5)                 10        \n",
      "                                                                 \n",
      " dense_1 (Dense)             (None, 3)                 18        \n",
      "                                                                 \n",
      " dense_2 (Dense)             (None, 1)                 4         \n",
      "                                                                 \n",
      "=================================================================\n",
      "Total params: 32\n",
      "Trainable params: 32\n",
      "Non-trainable params: 0\n",
      "_________________________________________________________________\n"
     ]
    },
    {
     "name": "stderr",
     "output_type": "stream",
     "text": [
      "2022-03-19 22:43:28.115789: I tensorflow/core/common_runtime/pluggable_device/pluggable_device_factory.cc:305] Could not identify NUMA node of platform GPU ID 0, defaulting to 0. Your kernel may not have been built with NUMA support.\n",
      "2022-03-19 22:43:28.115876: I tensorflow/core/common_runtime/pluggable_device/pluggable_device_factory.cc:271] Created TensorFlow device (/job:localhost/replica:0/task:0/device:GPU:0 with 0 MB memory) -> physical PluggableDevice (device: 0, name: METAL, pci bus id: <undefined>)\n"
     ]
    }
   ],
   "source": [
    "model = Sequential()\n",
    "\n",
    "# First layer, one input (x), 5 neurons\n",
    "model.add(Dense(5, input_dim=1, activation='sigmoid'))\n",
    "\n",
    "# Second layer, 3 neurons\n",
    "model.add(Dense(3, activation='sigmoid'))\n",
    "\n",
    "# One output, y (hopefulle sine (x)!)\n",
    "model.add(Dense (1, activation='sigmoid'))\n",
    "\n",
    "# Build our ANN\n",
    "model.compile (loss='mean_squared_error', optimizer='adam')\n",
    "\n",
    "model.summary ()\n"
   ]
  },
  {
   "cell_type": "code",
   "execution_count": 9,
   "id": "4dc4b707",
   "metadata": {},
   "outputs": [
    {
     "data": {
      "text/plain": [
       "[PhysicalDevice(name='/physical_device:CPU:0', device_type='CPU'),\n",
       " PhysicalDevice(name='/physical_device:GPU:0', device_type='GPU')]"
      ]
     },
     "execution_count": 9,
     "metadata": {},
     "output_type": "execute_result"
    }
   ],
   "source": [
    "import tensorflow as tf\n",
    "\n",
    "tf.config.get_visible_devices ()"
   ]
  },
  {
   "cell_type": "code",
   "execution_count": 10,
   "id": "37250a1e",
   "metadata": {},
   "outputs": [
    {
     "data": {
      "text/plain": [
       "[PhysicalDevice(name='/physical_device:CPU:0', device_type='CPU'),\n",
       " PhysicalDevice(name='/physical_device:GPU:0', device_type='GPU')]"
      ]
     },
     "execution_count": 10,
     "metadata": {},
     "output_type": "execute_result"
    }
   ],
   "source": [
    "tf.config.get_visible_devices()"
   ]
  },
  {
   "cell_type": "code",
   "execution_count": 4,
   "id": "a06bf532-074e-4bd6-96a3-bd09ce9cadee",
   "metadata": {},
   "outputs": [
    {
     "name": "stderr",
     "output_type": "stream",
     "text": [
      "2022-03-19 22:43:28.253663: W tensorflow/core/platform/profile_utils/cpu_utils.cc:128] Failed to get CPU frequency: 0 Hz\n",
      "2022-03-19 22:43:28.383718: I tensorflow/core/grappler/optimizers/custom_graph_optimizer_registry.cc:113] Plugin optimizer for device_type GPU is enabled.\n"
     ]
    }
   ],
   "source": [
    "h = model.fit (xN, y, verbose = False, epochs=3000)"
   ]
  },
  {
   "cell_type": "code",
   "execution_count": 5,
   "id": "45730844-52d4-4034-976f-a0b771fa8ffb",
   "metadata": {},
   "outputs": [],
   "source": [
    "def LossHistory (history):\n",
    "  plt.plot (history.history['loss'], label='Loss')\n",
    "  plt.xlabel ('Epoch')\n",
    "  plt.ylabel ('Loss')\n",
    "  plt.legend ()\n",
    "  plt.grid (True)\n",
    "  plt.show ()"
   ]
  },
  {
   "cell_type": "code",
   "execution_count": 6,
   "id": "79a78967-657b-4642-bd63-ec6c48619b15",
   "metadata": {},
   "outputs": [
    {
     "data": {
      "image/png": "[encoded data removed]",
      "text/plain": [
       "<Figure size 432x288 with 1 Axes>"
      ]
     },
     "metadata": {
      "needs_background": "light"
     },
     "output_type": "display_data"
    }
   ],
   "source": [
    "LossHistory (h)"
   ]
  }
 ],
 "metadata": {
  "kernelspec": {
   "display_name": "Python 3 (ipykernel)",
   "language": "python",
   "name": "python3"
  },
  "language_info": {
   "codemirror_mode": {
    "name": "ipython",
    "version": 3
   },
   "file_extension": ".py",
   "mimetype": "text/x-python",
   "name": "python",
   "nbconvert_exporter": "python",
   "pygments_lexer": "ipython3",
   "version": "3.9.10"
  }
 },
 "nbformat": 4,
 "nbformat_minor": 5
}
