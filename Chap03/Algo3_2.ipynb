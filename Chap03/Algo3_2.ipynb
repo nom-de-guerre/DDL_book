{
 "cells": [
  {
   "cell_type": "markdown",
   "id": "eb3456dd",
   "metadata": {},
   "source": [
    "Copyright (c) 2023, Douglas Santry\n",
    "All rights reserved.\n",
    "\n",
    "Redistribution and use in source and binary forms, with or without\n",
    "modification, is permitted provided that the following conditions are met:\n",
    "\n",
    "1. Redistributions of source code must retain the above copyright notice, this\n",
    "   list of conditions and the following disclaimer.\n",
    "2. Redistributions in binary form must reproduce the above copyright notice,\n",
    "   this list of conditions and the following disclaimer in the documentation\n",
    "   and/or other materials provided with the distribution.\n",
    "\n",
    "THIS SOFTWARE IS PROVIDED BY THE COPYRIGHT HOLDERS AND CONTRIBUTORS \"AS IS\" AND\n",
    "ANY EXPRESS OR IMPLIED WARRANTIES, INCLUDING, BUT NOT LIMITED TO, THE IMPLIED\n",
    "WARRANTIES OF MERCHANTABILITY AND FITNESS FOR A PARTICULAR PURPOSE ARE\n",
    "DISCLAIMED. IN NO EVENT SHALL THE COPYRIGHT OWNER OR CONTRIBUTORS BE LIABLE FOR\n",
    "ANY DIRECT, INDIRECT, INCIDENTAL, SPECIAL, EXEMPLARY, OR CONSEQUENTIAL DAMAGES\n",
    "(INCLUDING, BUT NOT LIMITED TO, PROCUREMENT OF SUBSTITUTE GOODS OR SERVICES;\n",
    "LOSS OF USE, DATA, OR PROFITS; OR BUSINESS INTERRUPTION) HOWEVER CAUSED AND\n",
    "ON ANY THEORY OF LIABILITY, WHETHER IN CONTRACT, STRICT LIABILITY, OR TORT\n",
    "(INCLUDING NEGLIGENCE OR OTHERWISE) ARISING IN ANY WAY OUT OF THE USE OF THIS\n",
    "SOFTWARE, EVEN IF ADVISED OF THE POSSIBILITY OF SUCH DAMAGE."
   ]
  },
  {
   "cell_type": "code",
   "execution_count": 1,
   "id": "baf31164",
   "metadata": {},
   "outputs": [],
   "source": [
    "from math import sin as sine\n",
    "\n",
    "import matplotlib.pyplot as plt"
   ]
  },
  {
   "cell_type": "code",
   "execution_count": 2,
   "id": "768c7194",
   "metadata": {},
   "outputs": [],
   "source": [
    "%run Algo3_3.py"
   ]
  },
  {
   "cell_type": "code",
   "execution_count": 3,
   "id": "a48bca3c",
   "metadata": {},
   "outputs": [],
   "source": [
    "ANN = ANN_Factory ([3, 2, 1])            # Build an ANN with topology..."
   ]
  },
  {
   "cell_type": "code",
   "execution_count": 4,
   "id": "3e339845",
   "metadata": {},
   "outputs": [
    {
     "data": {
      "text/plain": [
       "{'Weights': [array([[0.31267273, 0.87181156],\n",
       "         [0.16367026, 0.38562752],\n",
       "         [0.31987739, 0.36162331]]),\n",
       "  array([[0.58903327, 0.52513711, 0.38626107, 0.99557814],\n",
       "         [0.58815545, 0.48866403, 0.60123932, 0.0879986 ]]),\n",
       "  array([[0.57834059, 0.16218868, 0.7763404 ]])],\n",
       " 'dL': [array([[0., 0.],\n",
       "         [0., 0.],\n",
       "         [0., 0.]]),\n",
       "  array([[0., 0., 0., 0.],\n",
       "         [0., 0., 0., 0.]]),\n",
       "  array([[0., 0., 0.]])],\n",
       " 'topology': [3, 2, 1],\n",
       " 'z': [array([[1.63437886],\n",
       "         [0.55950035],\n",
       "         [0.12555924]]),\n",
       "  array([[2.05833592e-312],\n",
       "         [2.33419537e-312]]),\n",
       "  array([[0.]])]}"
      ]
     },
     "execution_count": 4,
     "metadata": {},
     "output_type": "execute_result"
    }
   ],
   "source": [
    "ANN"
   ]
  },
  {
   "cell_type": "code",
   "execution_count": 5,
   "id": "7688ed1a",
   "metadata": {},
   "outputs": [],
   "source": [
    "# Construct example data set.  Sine and its argument in radians.\n",
    "\n",
    "data = []\n",
    "for i in range (0,64):\n",
    "    theta = np.random.uniform (0, np.pi/2)\n",
    "    data.append ((theta, sine (theta)))\n",
    "    \n",
    "data = sorted (data)"
   ]
  },
  {
   "cell_type": "code",
   "execution_count": 6,
   "id": "841372bf",
   "metadata": {},
   "outputs": [
    {
     "name": "stdout",
     "output_type": "stream",
     "text": [
      "0.050804158187611914\n",
      "0.03950892781022567\n",
      "0.036715446584610296\n",
      "0.008783574143247935\n",
      "0.0012473811521557432\n",
      "0.0010200864994743767\n",
      "0.0009657475455191725\n",
      "0.0009225557563345011\n",
      "0.0008838379685686485\n",
      "0.0008488248520328026\n"
     ]
    }
   ],
   "source": [
    "# Naive Training loop\n",
    "\n",
    "for i in range (0, 10000):\n",
    "    \n",
    "    loss = 0\n",
    "    \n",
    "    for datum in data:\n",
    "        loss += ComputeLoss (ANN, datum[0], datum[1])\n",
    "        \n",
    "    if (i % 1000) == 0:\n",
    "        print (loss/64)\n",
    "        \n",
    "    UpdateWeights (ANN)"
   ]
  },
  {
   "cell_type": "code",
   "execution_count": 7,
   "id": "c2d716bc",
   "metadata": {},
   "outputs": [
    {
     "data": {
      "image/png": "[encoded data removed]",
      "text/plain": [
       "<Figure size 432x288 with 1 Axes>"
      ]
     },
     "metadata": {
      "needs_background": "light"
     },
     "output_type": "display_data"
    }
   ],
   "source": [
    "# Visualization of ground truth and training progress.\n",
    "\n",
    "theta, ground = zip (*data)\n",
    "\n",
    "sofar = []\n",
    "\n",
    "for x in theta:\n",
    "    sofar.append (ForwardPass (ANN, x))\n",
    "\n",
    "plt.plot (theta, ground)\n",
    "plt.plot (theta, sofar)\n",
    "\n",
    "plt.show ()"
   ]
  }
 ],
 "metadata": {
  "kernelspec": {
   "display_name": "Python 3 (ipykernel)",
   "language": "python",
   "name": "python3"
  },
  "language_info": {
   "codemirror_mode": {
    "name": "ipython",
    "version": 3
   },
   "file_extension": ".py",
   "mimetype": "text/x-python",
   "name": "python",
   "nbconvert_exporter": "python",
   "pygments_lexer": "ipython3",
   "version": "3.9.10"
  }
 },
 "nbformat": 4,
 "nbformat_minor": 5
}
