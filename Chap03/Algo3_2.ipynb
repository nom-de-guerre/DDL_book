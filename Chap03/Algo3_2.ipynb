{
 "cells": [
  {
   "cell_type": "markdown",
   "id": "eb3456dd",
   "metadata": {},
   "source": [
    "Copyright (c) 2023, Douglas Santry\n",
    "All rights reserved.\n",
    "\n",
    "Redistribution and use in source and binary forms, with or without\n",
    "modification, is permitted provided that the following conditions are met:\n",
    "\n",
    "1. Redistributions of source code must retain the above copyright notice, this\n",
    "   list of conditions and the following disclaimer.\n",
    "2. Redistributions in binary form must reproduce the above copyright notice,\n",
    "   this list of conditions and the following disclaimer in the documentation\n",
    "   and/or other materials provided with the distribution.\n",
    "\n",
    "THIS SOFTWARE IS PROVIDED BY THE COPYRIGHT HOLDERS AND CONTRIBUTORS \"AS IS\" AND\n",
    "ANY EXPRESS OR IMPLIED WARRANTIES, INCLUDING, BUT NOT LIMITED TO, THE IMPLIED\n",
    "WARRANTIES OF MERCHANTABILITY AND FITNESS FOR A PARTICULAR PURPOSE ARE\n",
    "DISCLAIMED. IN NO EVENT SHALL THE COPYRIGHT OWNER OR CONTRIBUTORS BE LIABLE FOR\n",
    "ANY DIRECT, INDIRECT, INCIDENTAL, SPECIAL, EXEMPLARY, OR CONSEQUENTIAL DAMAGES\n",
    "(INCLUDING, BUT NOT LIMITED TO, PROCUREMENT OF SUBSTITUTE GOODS OR SERVICES;\n",
    "LOSS OF USE, DATA, OR PROFITS; OR BUSINESS INTERRUPTION) HOWEVER CAUSED AND\n",
    "ON ANY THEORY OF LIABILITY, WHETHER IN CONTRACT, STRICT LIABILITY, OR TORT\n",
    "(INCLUDING NEGLIGENCE OR OTHERWISE) ARISING IN ANY WAY OUT OF THE USE OF THIS\n",
    "SOFTWARE, EVEN IF ADVISED OF THE POSSIBILITY OF SUCH DAMAGE."
   ]
  },
  {
   "cell_type": "code",
   "execution_count": 1,
   "id": "baf31164",
   "metadata": {},
   "outputs": [],
   "source": [
    "from math import sin as sine\n",
    "\n",
    "import matplotlib.pyplot as plt"
   ]
  },
  {
   "cell_type": "code",
   "execution_count": 2,
   "id": "768c7194",
   "metadata": {},
   "outputs": [],
   "source": [
    "%run Algo3_3.py"
   ]
  },
  {
   "cell_type": "code",
   "execution_count": 3,
   "id": "a48bca3c",
   "metadata": {},
   "outputs": [],
   "source": [
    "ANN = ANN_Factory ([3, 2, 1])            # Build an ANN with topology..."
   ]
  },
  {
   "cell_type": "code",
   "execution_count": 4,
   "id": "3e339845",
   "metadata": {},
   "outputs": [
    {
     "data": {
      "text/plain": [
       "{'Weights': [array([[0.56230684, 0.96285958]]),\n",
       "  array([[0.73015962, 0.22642243]]),\n",
       "  array([[0.0246343 , 0.06823086]])],\n",
       " 'dL': [array([[0., 0.]]), array([[0., 0.]]), array([[0., 0.]])],\n",
       " 'topology': [1, 1, 1],\n",
       " 'z': [array([[0.]]), array([[1.]]), array([[0.]])]}"
      ]
     },
     "execution_count": 4,
     "metadata": {},
     "output_type": "execute_result"
    }
   ],
   "source": [
    "ANN"
   ]
  },
  {
   "cell_type": "code",
   "execution_count": 5,
   "id": "7688ed1a",
   "metadata": {},
   "outputs": [],
   "source": [
    "# Construct example data set.  Sine and its argument in radians.\n",
    "\n",
    "data = []\n",
    "for i in range (0,64):\n",
    "    theta = np.random.uniform (0, np.pi/2)\n",
    "    data.append ((theta, sine (theta)))\n",
    "    \n",
    "data = sorted (data)"
   ]
  },
  {
   "cell_type": "code",
   "execution_count": 6,
   "id": "841372bf",
   "metadata": {},
   "outputs": [
    {
     "name": "stdout",
     "output_type": "stream",
     "text": [
      "0.05313491561709818\n",
      "0.0433103420129751\n",
      "0.043010652562857625\n",
      "0.04183309456992433\n",
      "0.025637499736224936\n",
      "0.002154527998818515\n",
      "0.0014813036215328126\n",
      "0.001376995866967824\n",
      "0.0012963463433023565\n",
      "0.001224448650563923\n"
     ]
    }
   ],
   "source": [
    "# Naive Training loop\n",
    "\n",
    "for i in range (0, 10000):\n",
    "    \n",
    "    loss = 0\n",
    "    \n",
    "    for datum in data:\n",
    "        loss += ComputeLoss (ANN, datum[0], datum[1])\n",
    "        \n",
    "    if (i % 1000) == 0:\n",
    "        print (loss/64)\n",
    "        \n",
    "    UpdateWeights (ANN)"
   ]
  },
  {
   "cell_type": "code",
   "execution_count": 7,
   "id": "c2d716bc",
   "metadata": {},
   "outputs": [
    {
     "data": {
      "image/png": "[encoded data removed]",
      "text/plain": [
       "<Figure size 432x288 with 1 Axes>"
      ]
     },
     "metadata": {
      "needs_background": "light"
     },
     "output_type": "display_data"
    }
   ],
   "source": [
    "# Visualization of ground truth and training progress.\n",
    "\n",
    "theta, ground = zip (*data)\n",
    "\n",
    "sofar = []\n",
    "\n",
    "for x in theta:\n",
    "    sofar.append (ForwardPass (ANN, x))\n",
    "\n",
    "plt.plot (theta, ground)\n",
    "plt.plot (theta, sofar)\n",
    "\n",
    "plt.show ()"
   ]
  }
 ],
 "metadata": {
  "kernelspec": {
   "display_name": "Python 3 (ipykernel)",
   "language": "python",
   "name": "python3"
  },
  "language_info": {
   "codemirror_mode": {
    "name": "ipython",
    "version": 3
   },
   "file_extension": ".py",
   "mimetype": "text/x-python",
   "name": "python",
   "nbconvert_exporter": "python",
   "pygments_lexer": "ipython3",
   "version": "3.9.10"
  }
 },
 "nbformat": 4,
 "nbformat_minor": 5
}
