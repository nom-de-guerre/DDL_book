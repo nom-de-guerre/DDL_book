This will be a notebook
