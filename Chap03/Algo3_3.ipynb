{
 "cells": [
  {
   "cell_type": "markdown",
   "id": "00191da0",
   "metadata": {},
   "source": [
    "Copyright (c) 2023, Douglas Santry\n",
    "All rights reserved.\n",
    "\n",
    "Redistribution and use in source and binary forms, with or without\n",
    "modification, is permitted provided that the following conditions are met:\n",
    "\n",
    "1. Redistributions of source code must retain the above copyright notice, this\n",
    "   list of conditions and the following disclaimer.\n",
    "2. Redistributions in binary form must reproduce the above copyright notice,\n",
    "   this list of conditions and the following disclaimer in the documentation\n",
    "   and/or other materials provided with the distribution.\n",
    "\n",
    "THIS SOFTWARE IS PROVIDED BY THE COPYRIGHT HOLDERS AND CONTRIBUTORS \"AS IS\" AND\n",
    "ANY EXPRESS OR IMPLIED WARRANTIES, INCLUDING, BUT NOT LIMITED TO, THE IMPLIED\n",
    "WARRANTIES OF MERCHANTABILITY AND FITNESS FOR A PARTICULAR PURPOSE ARE\n",
    "DISCLAIMED. IN NO EVENT SHALL THE COPYRIGHT OWNER OR CONTRIBUTORS BE LIABLE FOR\n",
    "ANY DIRECT, INDIRECT, INCIDENTAL, SPECIAL, EXEMPLARY, OR CONSEQUENTIAL DAMAGES\n",
    "(INCLUDING, BUT NOT LIMITED TO, PROCUREMENT OF SUBSTITUTE GOODS OR SERVICES;\n",
    "LOSS OF USE, DATA, OR PROFITS; OR BUSINESS INTERRUPTION) HOWEVER CAUSED AND\n",
    "ON ANY THEORY OF LIABILITY, WHETHER IN CONTRACT, STRICT LIABILITY, OR TORT\n",
    "(INCLUDING NEGLIGENCE OR OTHERWISE) ARISING IN ANY WAY OUT OF THE USE OF THIS\n",
    "SOFTWARE, EVEN IF ADVISED OF THE POSSIBILITY OF SUCH DAMAGE."
   ]
  },
  {
   "cell_type": "markdown",
   "id": "c64a0e5f",
   "metadata": {},
   "source": [
    "# This notebook is used to generate Algo3_3.py that Algo3_2.ipynb relies on.\n",
    "# It is not run directly."
   ]
  },
  {
   "cell_type": "code",
   "execution_count": 1,
   "id": "2298a54a",
   "metadata": {},
   "outputs": [],
   "source": [
    "import numpy as np\n",
    "\n",
    "from math import exp as exp\n"
   ]
  },
  {
   "cell_type": "code",
   "execution_count": 2,
   "id": "8c592d89",
   "metadata": {},
   "outputs": [],
   "source": [
    "#\n",
    "# Sigmoid activation function and its derivative\n",
    "#\n",
    "\n",
    "def sigmoid (x):\n",
    "    return 1/(1+exp(-x))\n",
    "\n",
    "activation_f = np.vectorize (sigmoid)\n",
    "\n",
    "def sigmoid_derivative (x):\n",
    "    return x * (1 - x)\n",
    "\n",
    "activation_dL = np.vectorize (sigmoid_derivative)"
   ]
  },
  {
   "cell_type": "code",
   "execution_count": 3,
   "id": "1048f6ae",
   "metadata": {},
   "outputs": [],
   "source": [
    "#\n",
    "# Given a topology allocate the matrices\n",
    "#\n",
    "\n",
    "def ANN_Build_Matrices (layers):\n",
    "    \n",
    "    ANN_Weights = []\n",
    "    last = 1\n",
    "    \n",
    "    for layer in layers:\n",
    "        \n",
    "        ANN_Weights.append (np.random.random ((layer, last + 1)))\n",
    "        last = layer\n",
    "\n",
    "    return ANN_Weights\n"
   ]
  },
  {
   "cell_type": "code",
   "execution_count": 4,
   "id": "d94db472",
   "metadata": {},
   "outputs": [],
   "source": [
    "#\n",
    "# Given a topology build a neural network and packaged it in a dictionary\n",
    "#\n",
    "\n",
    "def ANN_Factory (topology):\n",
    "\n",
    "    Weights = ANN_Build_Matrices (topology)\n",
    "\n",
    "    dL = ANN_Build_Matrices (topology)\n",
    "    for g in dL:\n",
    "        g[:] = 0\n",
    "\n",
    "    responses = []\n",
    "    for layer in topology:\n",
    "        responses.append (np.empty ((layer, 1), dtype=float))\n",
    "        \n",
    "    ANN = { \"Weights\" : Weights, \"dL\" : dL, \"topology\" : topology, \"z\" : responses }\n",
    "    \n",
    "    return ANN\n"
   ]
  },
  {
   "cell_type": "code",
   "execution_count": 5,
   "id": "c39f8f69",
   "metadata": {},
   "outputs": [],
   "source": [
    "#\n",
    "# Compute an ANN's value at x\n",
    "#\n",
    "# Only suitable for scaler inputs and outputs.\n",
    "#\n",
    "\n",
    "def ForwardPass (ANN, x):\n",
    "    \n",
    "    z = np.array ([[x]])\n",
    "\n",
    "    responses = ANN[\"z\"]\n",
    "    \n",
    "    for idx, K in enumerate (zip (ANN[\"Weights\"], responses)):\n",
    "\n",
    "        z_ = K[0][:,1:]@z\n",
    "        z_ += K[0][:, 0:1]\n",
    "        z = responses[idx] = activation_f (z_)\n",
    "        \n",
    "    return z[0][0]"
   ]
  },
  {
   "cell_type": "code",
   "execution_count": 6,
   "id": "2cfaa05a",
   "metadata": {},
   "outputs": [],
   "source": [
    "eta = 0.01 # The learning rate for equation 3.40"
   ]
  },
  {
   "cell_type": "code",
   "execution_count": 7,
   "id": "821860b4",
   "metadata": {},
   "outputs": [],
   "source": [
    "#\n",
    "# Algorithm 3.3, Demystifying Deep Learning\n",
    "#\n",
    "# Compute the loss of an ANN and perform back propagation\n",
    "#\n",
    "\n",
    "def ComputeLoss (ANN, x, y):\n",
    "    \n",
    "    y_ = ForwardPass (ANN, x)\n",
    "    \n",
    "    dz = np.array ([[y_ - y]])\n",
    "    loss = 0.5 * dz[0]*dz[0]\n",
    "\n",
    "    dL = ANN[\"dL\"]\n",
    "    z = np.matrix.transpose (x) + ANN[\"z\"]\n",
    "\n",
    "    for idx, K in enumerate (zip (reversed (ANN[\"dL\"]), reversed (ANN[\"Weights\"]), reversed (ANN[\"z\"]))):\n",
    "\n",
    "        # print (\"dz\", dz)\n",
    "        \n",
    "        df = activation_dL (K[2])\n",
    "        delta = dz * df                                                 # Equation 3.38\n",
    "        \n",
    "        dL[-(idx+1)][:,0:1] += delta\n",
    "                \n",
    "        dL[-(idx+1)][:,1:] += delta@np.matrix.transpose (z[-(idx+2)])   # Equation 3.39\n",
    "\n",
    "        dz = np.matrix.transpose (K[1][:,1:])@delta                     # Equation 3.37, propagate the gradient\n",
    "\n",
    "    return loss[0]"
   ]
  },
  {
   "cell_type": "code",
   "execution_count": 8,
   "id": "cc84d94c",
   "metadata": {},
   "outputs": [],
   "source": [
    "#\n",
    "# Update the weights and zero out the accumulated gradient (reset)\n",
    "#\n",
    "\n",
    "def UpdateWeights (ANN):\n",
    "\n",
    "    for W, dL in zip (ANN[\"Weights\"], ANN[\"dL\"]):\n",
    "        \n",
    "        W += -eta * dL                                        # Equation 3.40\n",
    "        dL[:,:] = 0.0\n"
   ]
  }
 ],
 "metadata": {
  "kernelspec": {
   "display_name": "Python 3 (ipykernel)",
   "language": "python",
   "name": "python3"
  },
  "language_info": {
   "codemirror_mode": {
    "name": "ipython",
    "version": 3
   },
   "file_extension": ".py",
   "mimetype": "text/x-python",
   "name": "python",
   "nbconvert_exporter": "python",
   "pygments_lexer": "ipython3",
   "version": "3.9.10"
  }
 },
 "nbformat": 4,
 "nbformat_minor": 5
}
