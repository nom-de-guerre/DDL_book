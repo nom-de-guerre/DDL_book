{
 "cells": [
  {
   "cell_type": "markdown",
   "id": "d39b6104",
   "metadata": {},
   "source": [
    "Copyright (c) 2023, Douglas Santry\n",
    "All rights reserved.\n",
    "\n",
    "Redistribution and use in source and binary forms, with or without\n",
    "modification, is permitted provided that the following conditions are met:\n",
    "\n",
    "1. Redistributions of source code must retain the above copyright notice, this\n",
    "   list of conditions and the following disclaimer.\n",
    "2. Redistributions in binary form must reproduce the above copyright notice,\n",
    "   this list of conditions and the following disclaimer in the documentation\n",
    "   and/or other materials provided with the distribution.\n",
    "\n",
    "THIS SOFTWARE IS PROVIDED BY THE COPYRIGHT HOLDERS AND CONTRIBUTORS \"AS IS\" AND\n",
    "ANY EXPRESS OR IMPLIED WARRANTIES, INCLUDING, BUT NOT LIMITED TO, THE IMPLIED\n",
    "WARRANTIES OF MERCHANTABILITY AND FITNESS FOR A PARTICULAR PURPOSE ARE\n",
    "DISCLAIMED. IN NO EVENT SHALL THE COPYRIGHT OWNER OR CONTRIBUTORS BE LIABLE FOR\n",
    "ANY DIRECT, INDIRECT, INCIDENTAL, SPECIAL, EXEMPLARY, OR CONSEQUENTIAL DAMAGES\n",
    "(INCLUDING, BUT NOT LIMITED TO, PROCUREMENT OF SUBSTITUTE GOODS OR SERVICES;\n",
    "LOSS OF USE, DATA, OR PROFITS; OR BUSINESS INTERRUPTION) HOWEVER CAUSED AND\n",
    "ON ANY THEORY OF LIABILITY, WHETHER IN CONTRACT, STRICT LIABILITY, OR TORT\n",
    "(INCLUDING NEGLIGENCE OR OTHERWISE) ARISING IN ANY WAY OUT OF THE USE OF THIS\n",
    "SOFTWARE, EVEN IF ADVISED OF THE POSSIBILITY OF SUCH DAMAGE."
   ]
  },
  {
   "cell_type": "code",
   "execution_count": 1,
   "id": "ecfc035c",
   "metadata": {},
   "outputs": [],
   "source": [
    "import tensorflow as tf\n",
    "\n",
    "from keras.models import Sequential\n",
    "from keras.layers import Dense\n",
    "\n",
    "from math import sin as sine\n",
    "from statistics import mean\n",
    "\n",
    "import numpy as np\n",
    "import matplotlib.pyplot as plt\n"
   ]
  },
  {
   "cell_type": "code",
   "execution_count": 2,
   "id": "c26c96d4",
   "metadata": {},
   "outputs": [
    {
     "name": "stdout",
     "output_type": "stream",
     "text": [
      "Metal device set to: Apple M1\n"
     ]
    },
    {
     "name": "stderr",
     "output_type": "stream",
     "text": [
      "2023-12-20 15:13:29.080498: I tensorflow/core/common_runtime/pluggable_device/pluggable_device_factory.cc:306] Could not identify NUMA node of platform GPU ID 0, defaulting to 0. Your kernel may not have been built with NUMA support.\n",
      "2023-12-20 15:13:29.080585: I tensorflow/core/common_runtime/pluggable_device/pluggable_device_factory.cc:272] Created TensorFlow device (/job:localhost/replica:0/task:0/device:GPU:0 with 0 MB memory) -> physical PluggableDevice (device: 0, name: METAL, pci bus id: <undefined>)\n"
     ]
    }
   ],
   "source": [
    "#\n",
    "# Create the ground truth (data set)\n",
    "#\n",
    "\n",
    "x = tf.sort (tf.random.uniform ([64]) * 3.14159265359 / 2) # sort so that we can draw lines\n",
    "y = np.c_[[*map (lambda u : sine (u), x)]]\n"
   ]
  },
  {
   "cell_type": "code",
   "execution_count": 3,
   "id": "445f7502",
   "metadata": {},
   "outputs": [
    {
     "name": "stdout",
     "output_type": "stream",
     "text": [
      "Model: \"sequential\"\n",
      "_________________________________________________________________\n",
      " Layer (type)                Output Shape              Param #   \n",
      "=================================================================\n",
      " dense (Dense)               (None, 10)                20        \n",
      "                                                                 \n",
      " dense_1 (Dense)             (None, 10)                110       \n",
      "                                                                 \n",
      " dense_2 (Dense)             (None, 1)                 11        \n",
      "                                                                 \n",
      "=================================================================\n",
      "Total params: 141\n",
      "Trainable params: 141\n",
      "Non-trainable params: 0\n",
      "_________________________________________________________________\n"
     ]
    }
   ],
   "source": [
    "sine_model = tf.keras.models.Sequential ()\n",
    "\n",
    "sine_model.add (Dense (10, input_shape=[1], activation='sigmoid'))\n",
    "sine_model.add (Dense (10, activation='sigmoid'))\n",
    "sine_model.add (Dense (1, activation=None))\n",
    "\n",
    "sine_model.build ()\n",
    "sine_model.summary ()"
   ]
  },
  {
   "cell_type": "code",
   "execution_count": 4,
   "id": "cf586d53",
   "metadata": {},
   "outputs": [],
   "source": [
    "#\n",
    "# Algorithm 5.6\n",
    "#\n",
    "\n",
    "ADAM = tf.keras.optimizers.Adam ()"
   ]
  },
  {
   "cell_type": "code",
   "execution_count": 5,
   "id": "a1ca64b7",
   "metadata": {},
   "outputs": [],
   "source": [
    "#\n",
    "# Algorithm 5.3, RPROP+\n",
    "#\n",
    "\n",
    "del_0 = 1e-2\n",
    "del_min = 1e-8\n",
    "del_max = 50\n",
    "\n",
    "eta_plus = 1.2\n",
    "eta_minus = 0.5\n",
    "\n",
    "del_model = []\n",
    "dL_model = []\n",
    "\n",
    "for W in sine_model.trainable_variables:\n",
    "    \n",
    "    del_model.append (np.full (W.shape, del_0))\n",
    "    dL_model.append (np.zeros (W.shape))\n",
    "\n",
    "\n",
    "def RPROP (gradients):\n",
    "\n",
    "    for i in range (len (sine_model.trainable_variables)):\n",
    "\n",
    "        dL = gradients[i].numpy ()\n",
    "\n",
    "        directions = np.sign (dL * dL_model[i])\n",
    "        updates = np.sign (dL)\n",
    "\n",
    "        case1 = directions > 0\n",
    "        case2 = directions < 0\n",
    "        case3 = directions == 0\n",
    "\n",
    "        # Case 1\n",
    "        del_model[i][case1] = np.minimum (del_model[i][case1] * eta_plus, del_max)\n",
    "        updates[case1] = -updates[case1]\n",
    "\n",
    "        # Case 2\n",
    "        del_model[i][case2] = np.maximum (del_model[i][case2] * eta_minus, del_min)\n",
    "\n",
    "        # Case 3\n",
    "        updates[case3] = -updates[case3]\n",
    "\n",
    "        # Apply the computed update and store new state\n",
    "        sine_model.trainable_variables[i].assign_add (del_model[i] * updates)\n",
    "        dL_model[i] = dL\n",
    "        dL_model[i][case2] = 0.0"
   ]
  },
  {
   "cell_type": "code",
   "execution_count": 6,
   "id": "f0fd03fb",
   "metadata": {},
   "outputs": [],
   "source": [
    "#\n",
    "# Equation 3.40\n",
    "#\n",
    "# UpdateWeights in algorithm 3.3 (line 15 omitted as not required)\n",
    "#\n",
    "\n",
    "def UpdateWeights (grad):\n",
    "    \n",
    "    for i in range (len (grad)):\n",
    "        sine_model.trainable_variables[i].assign_add (-0.01 * grad[i])\n"
   ]
  },
  {
   "cell_type": "code",
   "execution_count": 7,
   "id": "989924dc",
   "metadata": {
    "scrolled": false
   },
   "outputs": [
    {
     "name": "stdout",
     "output_type": "stream",
     "text": [
      "Epoch 0: 0.851924\n",
      "Epoch 50: 0.002540\n",
      "Epoch 100: 0.000252\n",
      "Epoch 150: 0.000042\n",
      "Epoch 200: 0.000037\n",
      "Epoch 250: 0.000035\n",
      "Epoch 300: 0.000034\n",
      "Epoch 350: 0.000033\n",
      "Epoch 400: 0.000032\n",
      "Epoch 450: 0.000031\n"
     ]
    }
   ],
   "source": [
    "#\n",
    "# A training loop.  There are 3 optimizers to choose from.  Only uncomment 1 at time.\n",
    "#\n",
    "\n",
    "for epoch in range (500):\n",
    "    \n",
    "    with tf.GradientTape () as tape:\n",
    "    \n",
    "        # Note that we are not using predict.  This is a slower path that the tape\n",
    "        # can monitor.\n",
    "        y_ = sine_model (x, training=True)\n",
    "    \n",
    "        z = y_ - y\n",
    "        z = z**2\n",
    "    \n",
    "    grad = tape.gradient (z, sine_model.trainable_variables)\n",
    "\n",
    "    MSE = sum (z) / len (x)\n",
    "    \n",
    "    if epoch % 50 == 0:\n",
    "        print (\"Epoch %d: %f\" % (epoch, MSE.numpy ()))\n",
    "\n",
    "    if MSE < 1e-5:\n",
    "        break\n",
    "\n",
    "#\n",
    "# There are 3 possible, all mutually exclusive, update strategy choices.  Only uncomment one!\n",
    "#\n",
    "\n",
    "#    RPROP (grad)\n",
    "#    ADAM.apply_gradients (zip (grad, sine_model.trainable_variables))\n",
    "#    UpdateWeights (grad)\n"
   ]
  },
  {
   "cell_type": "code",
   "execution_count": 8,
   "id": "7317b4a5",
   "metadata": {},
   "outputs": [
    {
     "data": {
      "text/plain": [
       "2.9312112e-05"
      ]
     },
     "execution_count": 8,
     "metadata": {},
     "output_type": "execute_result"
    }
   ],
   "source": [
    "#\n",
    "# Our Final MSE Loss\n",
    "#\n",
    "\n",
    "MSE.numpy ()[0]"
   ]
  },
  {
   "cell_type": "code",
   "execution_count": 9,
   "id": "bb6b9f51",
   "metadata": {},
   "outputs": [
    {
     "name": "stderr",
     "output_type": "stream",
     "text": [
      "2023-12-20 15:13:39.044862: W tensorflow/core/platform/profile_utils/cpu_utils.cc:128] Failed to get CPU frequency: 0 Hz\n",
      "2023-12-20 15:13:39.082854: I tensorflow/core/grappler/optimizers/custom_graph_optimizer_registry.cc:114] Plugin optimizer for device_type GPU is enabled.\n"
     ]
    },
    {
     "data": {
      "text/plain": [
       "[<matplotlib.lines.Line2D at 0x2b4b150d0>]"
      ]
     },
     "execution_count": 9,
     "metadata": {},
     "output_type": "execute_result"
    },
    {
     "data": {
      "image/png": "[encoded data removed]",
      "text/plain": [
       "<Figure size 432x288 with 1 Axes>"
      ]
     },
     "metadata": {
      "needs_background": "light"
     },
     "output_type": "display_data"
    }
   ],
   "source": [
    "plt.plot (x, sine_model.predict ([x], verbose=False))\n",
    "plt.plot (x, y, color=\"r\")"
   ]
  }
 ],
 "metadata": {
  "kernelspec": {
   "display_name": "Python 3 (ipykernel)",
   "language": "python",
   "name": "python3"
  },
  "language_info": {
   "codemirror_mode": {
    "name": "ipython",
    "version": 3
   },
   "file_extension": ".py",
   "mimetype": "text/x-python",
   "name": "python",
   "nbconvert_exporter": "python",
   "pygments_lexer": "ipython3",
   "version": "3.9.10"
  }
 },
 "nbformat": 4,
 "nbformat_minor": 5
}
