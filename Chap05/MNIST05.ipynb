{
 "cells": [
  {
   "cell_type": "markdown",
   "id": "acd1e860",
   "metadata": {},
   "source": [
    "Copyright (c) 2023, Douglas Santry\n",
    "All rights reserved.\n",
    "\n",
    "Redistribution and use in source and binary forms, with or without\n",
    "modification, is permitted provided that the following conditions are met:\n",
    "\n",
    "1. Redistributions of source code must retain the above copyright notice, this\n",
    "   list of conditions and the following disclaimer.\n",
    "2. Redistributions in binary form must reproduce the above copyright notice,\n",
    "   this list of conditions and the following disclaimer in the documentation\n",
    "   and/or other materials provided with the distribution.\n",
    "\n",
    "THIS SOFTWARE IS PROVIDED BY THE COPYRIGHT HOLDERS AND CONTRIBUTORS \"AS IS\" AND\n",
    "ANY EXPRESS OR IMPLIED WARRANTIES, INCLUDING, BUT NOT LIMITED TO, THE IMPLIED\n",
    "WARRANTIES OF MERCHANTABILITY AND FITNESS FOR A PARTICULAR PURPOSE ARE\n",
    "DISCLAIMED. IN NO EVENT SHALL THE COPYRIGHT OWNER OR CONTRIBUTORS BE LIABLE FOR\n",
    "ANY DIRECT, INDIRECT, INCIDENTAL, SPECIAL, EXEMPLARY, OR CONSEQUENTIAL DAMAGES\n",
    "(INCLUDING, BUT NOT LIMITED TO, PROCUREMENT OF SUBSTITUTE GOODS OR SERVICES;\n",
    "LOSS OF USE, DATA, OR PROFITS; OR BUSINESS INTERRUPTION) HOWEVER CAUSED AND\n",
    "ON ANY THEORY OF LIABILITY, WHETHER IN CONTRACT, STRICT LIABILITY, OR TORT\n",
    "(INCLUDING NEGLIGENCE OR OTHERWISE) ARISING IN ANY WAY OUT OF THE USE OF THIS\n",
    "SOFTWARE, EVEN IF ADVISED OF THE POSSIBILITY OF SUCH DAMAGE."
   ]
  },
  {
   "cell_type": "code",
   "execution_count": 1,
   "id": "d7f7c99b",
   "metadata": {},
   "outputs": [],
   "source": [
    "import tensorflow as tf\n",
    "import numpy as np\n",
    "\n",
    "from keras.models import Sequential\n",
    "from keras.layers import Dense\n",
    "from keras.layers import Softmax\n",
    "from keras.layers import Conv2D as CNN\n",
    "from keras.layers import MaxPooling2D as MaxPool\n",
    "from keras.layers import Flatten\n",
    "from tensorflow.keras.utils import to_categorical\n",
    "\n",
    "import matplotlib.pyplot as plt\n",
    "import math as math\n"
   ]
  },
  {
   "cell_type": "code",
   "execution_count": 2,
   "id": "c115f693",
   "metadata": {},
   "outputs": [],
   "source": [
    "(train_images, train_labels), (test_images, test_labels) = tf.keras.datasets.mnist.load_data()"
   ]
  },
  {
   "cell_type": "code",
   "execution_count": 3,
   "id": "35014968",
   "metadata": {},
   "outputs": [],
   "source": [
    "train_images = train_images.reshape(train_images.shape[0], 28, 28, 1).astype('float32')\n",
    "train_images = (train_images - 127.5) / 127.5  # Normalize the images to [-1, 1]"
   ]
  },
  {
   "cell_type": "code",
   "execution_count": 4,
   "id": "8b5d1a82",
   "metadata": {},
   "outputs": [],
   "source": [
    "test_images = test_images.reshape(test_images.shape[0], 28, 28, 1).astype('float32')\n",
    "test_images = (test_images - 127.5) / 127.5  # Normalize the images to [-1, 1]"
   ]
  },
  {
   "cell_type": "code",
   "execution_count": 5,
   "id": "fb52b8b0",
   "metadata": {},
   "outputs": [],
   "source": [
    "HotEncodedVec = to_categorical (train_labels)\n",
    "\n",
    "y = HotEncodedVec"
   ]
  },
  {
   "cell_type": "code",
   "execution_count": 6,
   "id": "6dd28fcc",
   "metadata": {},
   "outputs": [],
   "source": [
    "def ModelFactory ():\n",
    "    \n",
    "    model = tf.keras.Sequential ()                                                 \n",
    "\n",
    "    model.add (CNN (5, kernel_size=3, activation=\"relu\", input_shape=(28,28,1)))\n",
    "    model.add (MaxPool (pool_size=(2, 2), strides=(2,2), padding=\"valid\"))\n",
    "\n",
    "    model.add (Flatten ())\n",
    "\n",
    "    model.add (Dense(50, activation='relu'))\n",
    "    model.add (Dense(50, activation='relu'))\n",
    "\n",
    "    model.add (Dense (10, activation='softmax'))\n",
    "\n",
    "    model.compile (loss='categorical_crossentropy', optimizer='ADAM')\n",
    "\n",
    "    return model"
   ]
  },
  {
   "cell_type": "code",
   "execution_count": 7,
   "id": "c709bc1d",
   "metadata": {},
   "outputs": [
    {
     "name": "stdout",
     "output_type": "stream",
     "text": [
      "Metal device set to: Apple M1\n"
     ]
    },
    {
     "name": "stderr",
     "output_type": "stream",
     "text": [
      "2023-12-21 14:07:32.065176: I tensorflow/core/common_runtime/pluggable_device/pluggable_device_factory.cc:306] Could not identify NUMA node of platform GPU ID 0, defaulting to 0. Your kernel may not have been built with NUMA support.\n",
      "2023-12-21 14:07:32.065267: I tensorflow/core/common_runtime/pluggable_device/pluggable_device_factory.cc:272] Created TensorFlow device (/job:localhost/replica:0/task:0/device:GPU:0 with 0 MB memory) -> physical PluggableDevice (device: 0, name: METAL, pci bus id: <undefined>)\n"
     ]
    }
   ],
   "source": [
    "MNIST = ModelFactory ()"
   ]
  },
  {
   "cell_type": "code",
   "execution_count": 8,
   "id": "badd0a88",
   "metadata": {},
   "outputs": [],
   "source": [
    "#\n",
    "# Algorithm 5.6\n",
    "#\n",
    "\n",
    "ADAM = tf.keras.optimizers.Adam ()"
   ]
  },
  {
   "cell_type": "code",
   "execution_count": 9,
   "id": "e6152c63",
   "metadata": {},
   "outputs": [],
   "source": [
    "#\n",
    "# Algorithm 5.3, RPROP+\n",
    "#\n",
    "\n",
    "del_0 = 1e-2\n",
    "del_min = 1e-8\n",
    "del_max = 20         # What effect does this parameter have on MNIST convergence?\n",
    "\n",
    "eta_plus = 1.2\n",
    "eta_minus = 0.5\n",
    "\n",
    "del_model = []\n",
    "dL_model = []\n",
    "\n",
    "for W in MNIST.trainable_variables:\n",
    "    \n",
    "    del_model.append (np.full (W.shape, del_0))\n",
    "    dL_model.append (np.zeros (W.shape))\n",
    "\n",
    "\n",
    "def RPROP (gradients):\n",
    "\n",
    "    for i in range (len (MNIST.trainable_variables)):\n",
    "\n",
    "        dL = gradients[i].numpy ()\n",
    "\n",
    "        directions = np.sign (dL * dL_model[i])\n",
    "        updates = np.sign (dL)\n",
    "\n",
    "        case1 = directions > 0\n",
    "        case2 = directions < 0\n",
    "        case3 = directions == 0\n",
    "\n",
    "        # Case 1\n",
    "        del_model[i][case1] = np.minimum (del_model[i][case1] * eta_plus, del_max)\n",
    "        updates[case1] = -updates[case1]\n",
    "\n",
    "        # Case 2\n",
    "        del_model[i][case2] = np.maximum (del_model[i][case2] * eta_minus, del_min)\n",
    "\n",
    "        # Case 3\n",
    "        updates[case3] = -updates[case3]\n",
    "\n",
    "        # Apply the computed update and store new state\n",
    "        MNIST.trainable_variables[i].assign_add (del_model[i] * updates)\n",
    "        dL_model[i] = dL\n",
    "        dL_model[i][case2] = 0.0"
   ]
  },
  {
   "cell_type": "code",
   "execution_count": 10,
   "id": "32022345",
   "metadata": {},
   "outputs": [],
   "source": [
    "#\n",
    "# Equation 3.40\n",
    "#\n",
    "# UpdateWeights in algorithm 3.3 (line 15 omitted as not required)\n",
    "#\n",
    "\n",
    "def UpdateWeights (grad):\n",
    "    \n",
    "    for i in range (len (grad)):\n",
    "        MNIST.trainable_variables[i].assign_add (-0.01 * grad[i])"
   ]
  },
  {
   "cell_type": "code",
   "execution_count": 11,
   "id": "fd2fa193",
   "metadata": {},
   "outputs": [],
   "source": [
    "#\n",
    "# Equation 4.7\n",
    "#\n",
    "\n",
    "MLE = tf.keras.losses.CategoricalCrossentropy (from_logits=False, reduction=tf.keras.losses.Reduction.NONE)\n"
   ]
  },
  {
   "cell_type": "code",
   "execution_count": 12,
   "id": "222c97a3",
   "metadata": {},
   "outputs": [
    {
     "name": "stdout",
     "output_type": "stream",
     "text": [
      "Epoch 0: 3405.246826\n"
     ]
    }
   ],
   "source": [
    "#\n",
    "# A training loop.  There are 3 optimizers to choose from.  Only uncomment 1 at time.\n",
    "#\n",
    "\n",
    "BatchSize = 128\n",
    "\n",
    "for epoch in range (1000):\n",
    "    \n",
    "    fake_SGD  = list (map (lambda x : int (x), np.random.uniform (0, len (train_images), BatchSize)))\n",
    "    \n",
    "    with tf.GradientTape () as tape:\n",
    "    \n",
    "        # Note that we are not using predict.  This is a slower path that the tape\n",
    "        # can monitor.\n",
    "        y_ = MNIST (train_images[fake_SGD], training=True)\n",
    "    \n",
    "        z = MLE (y_, y[fake_SGD])\n",
    "        Loss = tf.reduce_sum(z.numpy ()) / BatchSize\n",
    "    \n",
    "    grad = tape.gradient (z, MNIST.trainable_variables)\n",
    "    \n",
    "    if epoch % 50 == 0:\n",
    "        print (\"Epoch %d: %f\" % (epoch, Loss))\n",
    "\n",
    "    if Loss < 0.11:\n",
    "        break\n",
    "\n",
    "#\n",
    "# There are 3 possible, all mutually exclusive, update strategy choices.  Only uncomment one!\n",
    "#\n",
    "\n",
    "#    RPROP (grad)\n",
    "#    ADAM.apply_gradients (zip (grad, MNIST.trainable_variables))\n",
    "#    UpdateWeights (grad)\n"
   ]
  },
  {
   "cell_type": "code",
   "execution_count": 13,
   "id": "d87b8b0b",
   "metadata": {
    "scrolled": true
   },
   "outputs": [
    {
     "name": "stderr",
     "output_type": "stream",
     "text": [
      "2023-12-21 14:07:39.433430: W tensorflow/core/platform/profile_utils/cpu_utils.cc:128] Failed to get CPU frequency: 0 Hz\n",
      "2023-12-21 14:07:39.473895: I tensorflow/core/grappler/optimizers/custom_graph_optimizer_registry.cc:114] Plugin optimizer for device_type GPU is enabled.\n"
     ]
    },
    {
     "data": {
      "text/plain": [
       "9.8"
      ]
     },
     "execution_count": 13,
     "metadata": {},
     "output_type": "execute_result"
    }
   ],
   "source": [
    "Z = MNIST.predict (test_images, verbose=False)\n",
    "\n",
    "class_predictions = Z.argmax (1)\n",
    "\n",
    "sum (class_predictions == test_labels) / len (test_labels) * 100 # Percent accurate"
   ]
  }
 ],
 "metadata": {
  "kernelspec": {
   "display_name": "Python 3 (ipykernel)",
   "language": "python",
   "name": "python3"
  },
  "language_info": {
   "codemirror_mode": {
    "name": "ipython",
    "version": 3
   },
   "file_extension": ".py",
   "mimetype": "text/x-python",
   "name": "python",
   "nbconvert_exporter": "python",
   "pygments_lexer": "ipython3",
   "version": "3.9.10"
  }
 },
 "nbformat": 4,
 "nbformat_minor": 5
}
