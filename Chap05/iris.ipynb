{
 "cells": [
  {
   "cell_type": "markdown",
   "id": "d39b6104",
   "metadata": {},
   "source": [
    "Copyright (c) 2023, Douglas Santry\n",
    "All rights reserved.\n",
    "\n",
    "Redistribution and use in source and binary forms, with or without\n",
    "modification, is permitted provided that the following conditions are met:\n",
    "\n",
    "1. Redistributions of source code must retain the above copyright notice, this\n",
    "   list of conditions and the following disclaimer.\n",
    "2. Redistributions in binary form must reproduce the above copyright notice,\n",
    "   this list of conditions and the following disclaimer in the documentation\n",
    "   and/or other materials provided with the distribution.\n",
    "\n",
    "THIS SOFTWARE IS PROVIDED BY THE COPYRIGHT HOLDERS AND CONTRIBUTORS \"AS IS\" AND\n",
    "ANY EXPRESS OR IMPLIED WARRANTIES, INCLUDING, BUT NOT LIMITED TO, THE IMPLIED\n",
    "WARRANTIES OF MERCHANTABILITY AND FITNESS FOR A PARTICULAR PURPOSE ARE\n",
    "DISCLAIMED. IN NO EVENT SHALL THE COPYRIGHT OWNER OR CONTRIBUTORS BE LIABLE FOR\n",
    "ANY DIRECT, INDIRECT, INCIDENTAL, SPECIAL, EXEMPLARY, OR CONSEQUENTIAL DAMAGES\n",
    "(INCLUDING, BUT NOT LIMITED TO, PROCUREMENT OF SUBSTITUTE GOODS OR SERVICES;\n",
    "LOSS OF USE, DATA, OR PROFITS; OR BUSINESS INTERRUPTION) HOWEVER CAUSED AND\n",
    "ON ANY THEORY OF LIABILITY, WHETHER IN CONTRACT, STRICT LIABILITY, OR TORT\n",
    "(INCLUDING NEGLIGENCE OR OTHERWISE) ARISING IN ANY WAY OUT OF THE USE OF THIS\n",
    "SOFTWARE, EVEN IF ADVISED OF THE POSSIBILITY OF SUCH DAMAGE."
   ]
  },
  {
   "cell_type": "code",
   "execution_count": 1,
   "id": "ecfc035c",
   "metadata": {},
   "outputs": [],
   "source": [
    "import tensorflow as tf\n",
    "\n",
    "from keras.models import Sequential\n",
    "from keras.layers import Dense\n",
    "\n",
    "from math import sin as sine\n",
    "from statistics import mean\n",
    "\n",
    "import numpy as np\n",
    "import matplotlib.pyplot as plt\n",
    "from sklearn.preprocessing import OneHotEncoder\n",
    "import pandas as pd\n"
   ]
  },
  {
   "cell_type": "code",
   "execution_count": 2,
   "id": "7423fbd0",
   "metadata": {},
   "outputs": [],
   "source": [
    "iris = pd.read_csv (\"../Data/iris.csv\")"
   ]
  },
  {
   "cell_type": "code",
   "execution_count": 3,
   "id": "bcfe6607",
   "metadata": {},
   "outputs": [],
   "source": [
    "dataset = iris.values                      # Extract the values from the dataframe into an array\n",
    "x = dataset[:, 0:4].astype(float)          # Split off our input features\n"
   ]
  },
  {
   "cell_type": "code",
   "execution_count": 4,
   "id": "37c14aa2",
   "metadata": {},
   "outputs": [],
   "source": [
    "SpeciesToVector = OneHotEncoder (sparse=False)\n",
    "TrainingLabels = SpeciesToVector.fit_transform (iris.loc[:, [\"species\"]])\n",
    "\n",
    "y = TrainingLabels"
   ]
  },
  {
   "cell_type": "code",
   "execution_count": 5,
   "id": "445f7502",
   "metadata": {},
   "outputs": [
    {
     "name": "stdout",
     "output_type": "stream",
     "text": [
      "Metal device set to: Apple M1\n"
     ]
    },
    {
     "name": "stderr",
     "output_type": "stream",
     "text": [
      "2023-12-21 12:57:25.797141: I tensorflow/core/common_runtime/pluggable_device/pluggable_device_factory.cc:306] Could not identify NUMA node of platform GPU ID 0, defaulting to 0. Your kernel may not have been built with NUMA support.\n",
      "2023-12-21 12:57:25.797225: I tensorflow/core/common_runtime/pluggable_device/pluggable_device_factory.cc:272] Created TensorFlow device (/job:localhost/replica:0/task:0/device:GPU:0 with 0 MB memory) -> physical PluggableDevice (device: 0, name: METAL, pci bus id: <undefined>)\n",
      "2023-12-21 12:57:25.859828: W tensorflow/core/platform/profile_utils/cpu_utils.cc:128] Failed to get CPU frequency: 0 Hz\n",
      "2023-12-21 12:57:25.896614: I tensorflow/core/grappler/optimizers/custom_graph_optimizer_registry.cc:114] Plugin optimizer for device_type GPU is enabled.\n"
     ]
    },
    {
     "name": "stdout",
     "output_type": "stream",
     "text": [
      "Model: \"sequential\"\n",
      "_________________________________________________________________\n",
      " Layer (type)                Output Shape              Param #   \n",
      "=================================================================\n",
      " normalization (Normalizatio  (None, 4)                9         \n",
      " n)                                                              \n",
      "                                                                 \n",
      " dense (Dense)               (None, 20)                100       \n",
      "                                                                 \n",
      " dense_1 (Dense)             (None, 20)                420       \n",
      "                                                                 \n",
      " dense_2 (Dense)             (None, 3)                 63        \n",
      "                                                                 \n",
      "=================================================================\n",
      "Total params: 592\n",
      "Trainable params: 583\n",
      "Non-trainable params: 9\n",
      "_________________________________________________________________\n"
     ]
    }
   ],
   "source": [
    "iris_model = tf.keras.models.Sequential ()\n",
    "\n",
    "iris_model.add (tf.keras.layers.Normalization (input_dim = 4))\n",
    "iris_model.layers[0].adapt (x)\n",
    "\n",
    "iris_model.add (Dense (20, input_shape=[1], activation='sigmoid'))\n",
    "iris_model.add (Dense (20, activation='sigmoid'))\n",
    "iris_model.add (Dense (3, activation='softmax'))\n",
    "\n",
    "iris_model.build ()\n",
    "iris_model.summary ()"
   ]
  },
  {
   "cell_type": "code",
   "execution_count": 6,
   "id": "cf586d53",
   "metadata": {},
   "outputs": [],
   "source": [
    "#\n",
    "# Algorithm 5.6\n",
    "#\n",
    "\n",
    "ADAM = tf.keras.optimizers.Adam ()"
   ]
  },
  {
   "cell_type": "code",
   "execution_count": 7,
   "id": "c7a26045",
   "metadata": {},
   "outputs": [],
   "source": [
    "#\n",
    "# Algorithm 5.3, RPROP+\n",
    "#\n",
    "\n",
    "del_0 = 1e-2\n",
    "del_min = 1e-8\n",
    "del_max = 50\n",
    "\n",
    "eta_plus = 1.2\n",
    "eta_minus = 0.5\n",
    "\n",
    "del_model = []\n",
    "dL_model = []\n",
    "\n",
    "for W in iris_model.trainable_variables:\n",
    "    \n",
    "    del_model.append (np.full (W.shape, del_0))\n",
    "    dL_model.append (np.zeros (W.shape))\n",
    "\n",
    "\n",
    "def RPROP (gradients):\n",
    "\n",
    "    for i in range (len (iris_model.trainable_variables)):\n",
    "\n",
    "        dL = gradients[i].numpy ()\n",
    "\n",
    "        directions = np.sign (dL * dL_model[i])\n",
    "        updates = np.sign (dL)\n",
    "\n",
    "        case1 = directions > 0\n",
    "        case2 = directions < 0\n",
    "        case3 = directions == 0\n",
    "\n",
    "        # Case 1\n",
    "        del_model[i][case1] = np.minimum (del_model[i][case1] * eta_plus, del_max)\n",
    "        updates[case1] = -updates[case1]\n",
    "\n",
    "        # Case 2\n",
    "        del_model[i][case2] = np.maximum (del_model[i][case2] * eta_minus, del_min)\n",
    "\n",
    "        # Case 3\n",
    "        updates[case3] = -updates[case3]\n",
    "\n",
    "        # Apply the computed update and store new state\n",
    "        iris_model.trainable_variables[i].assign_add (del_model[i] * updates)\n",
    "        dL_model[i] = dL\n",
    "        dL_model[i][case2] = 0.0"
   ]
  },
  {
   "cell_type": "code",
   "execution_count": 8,
   "id": "f0fd03fb",
   "metadata": {},
   "outputs": [],
   "source": [
    "#\n",
    "# Equation 3.40\n",
    "#\n",
    "# UpdateWeights in algorithm 3.3 (line 15 omitted as not required)\n",
    "#\n",
    "\n",
    "def UpdateWeights (grad):\n",
    "    \n",
    "    for i in range (len (grad)):\n",
    "        iris_model.trainable_variables[i].assign_add (-0.01 * grad[i])\n"
   ]
  },
  {
   "cell_type": "code",
   "execution_count": 9,
   "id": "5033b78c",
   "metadata": {},
   "outputs": [],
   "source": [
    "MLE = tf.keras.losses.CategoricalCrossentropy (from_logits=False, reduction=tf.keras.losses.Reduction.NONE)"
   ]
  },
  {
   "cell_type": "code",
   "execution_count": 10,
   "id": "989924dc",
   "metadata": {
    "scrolled": false
   },
   "outputs": [
    {
     "name": "stdout",
     "output_type": "stream",
     "text": [
      "Epoch 0: 10.595688\n",
      "Epoch 50: 0.521850\n",
      "Epoch 100: 0.227409\n",
      "Epoch 150: 0.134707\n"
     ]
    }
   ],
   "source": [
    "#\n",
    "# A training loop.  There are 3 optimizers to choose from.  Only uncomment 1 at time.\n",
    "#\n",
    "\n",
    "for epoch in range (500):\n",
    "    \n",
    "    with tf.GradientTape () as tape:\n",
    "    \n",
    "        # Note that we are not using predict.  This is a slower path that the tape\n",
    "        # can monitor.\n",
    "        y_ = iris_model (x, training=True)\n",
    "    \n",
    "        z = MLE (y_, y)\n",
    "        Loss = tf.reduce_sum(z.numpy ()) / 150\n",
    "    \n",
    "    grad = tape.gradient (z, iris_model.trainable_variables)\n",
    "    \n",
    "    if epoch % 50 == 0:\n",
    "        print (\"Epoch %d: %f\" % (epoch, Loss))\n",
    "\n",
    "    if Loss < 0.11:\n",
    "        break\n",
    "\n",
    "#\n",
    "# There are 3 possible, all mutually exclusive, update strategy choices.  Only uncomment one!\n",
    "#\n",
    "\n",
    "    RPROP (grad)\n",
    "#    ADAM.apply_gradients (zip (grad, iris_model.trainable_variables))\n",
    "#    UpdateWeights (grad)\n"
   ]
  },
  {
   "cell_type": "code",
   "execution_count": 11,
   "id": "7317b4a5",
   "metadata": {},
   "outputs": [
    {
     "name": "stderr",
     "output_type": "stream",
     "text": [
      "2023-12-21 12:57:28.363505: I tensorflow/core/grappler/optimizers/custom_graph_optimizer_registry.cc:114] Plugin optimizer for device_type GPU is enabled.\n"
     ]
    },
    {
     "data": {
      "text/plain": [
       "0.9933333333333333"
      ]
     },
     "execution_count": 11,
     "metadata": {},
     "output_type": "execute_result"
    }
   ],
   "source": [
    "y_ = iris_model.predict ([x], verbose=False)\n",
    "\n",
    "sum (y_.argmax (1) == y.argmax (1)) / len (y)"
   ]
  },
  {
   "cell_type": "code",
   "execution_count": 14,
   "id": "b416025b",
   "metadata": {},
   "outputs": [
    {
     "data": {
      "text/plain": [
       "0.10998627845790467"
      ]
     },
     "execution_count": 14,
     "metadata": {},
     "output_type": "execute_result"
    }
   ],
   "source": [
    "Loss.numpy ()"
   ]
  }
 ],
 "metadata": {
  "kernelspec": {
   "display_name": "Python 3 (ipykernel)",
   "language": "python",
   "name": "python3"
  },
  "language_info": {
   "codemirror_mode": {
    "name": "ipython",
    "version": 3
   },
   "file_extension": ".py",
   "mimetype": "text/x-python",
   "name": "python",
   "nbconvert_exporter": "python",
   "pygments_lexer": "ipython3",
   "version": "3.9.10"
  }
 },
 "nbformat": 4,
 "nbformat_minor": 5
}
