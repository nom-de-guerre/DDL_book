{
 "cells": [
  {
   "cell_type": "markdown",
   "id": "8b547eaa",
   "metadata": {},
   "source": [
    "Copyright (c) 2023, Douglas Santry\n",
    "All rights reserved.\n",
    "\n",
    "Redistribution and use in source and binary forms, with or without\n",
    "modification, is permitted provided that the following conditions are met:\n",
    "\n",
    "1. Redistributions of source code must retain the above copyright notice, this\n",
    "   list of conditions and the following disclaimer.\n",
    "2. Redistributions in binary form must reproduce the above copyright notice,\n",
    "   this list of conditions and the following disclaimer in the documentation\n",
    "   and/or other materials provided with the distribution.\n",
    "\n",
    "THIS SOFTWARE IS PROVIDED BY THE COPYRIGHT HOLDERS AND CONTRIBUTORS \"AS IS\" AND\n",
    "ANY EXPRESS OR IMPLIED WARRANTIES, INCLUDING, BUT NOT LIMITED TO, THE IMPLIED\n",
    "WARRANTIES OF MERCHANTABILITY AND FITNESS FOR A PARTICULAR PURPOSE ARE\n",
    "DISCLAIMED. IN NO EVENT SHALL THE COPYRIGHT OWNER OR CONTRIBUTORS BE LIABLE FOR\n",
    "ANY DIRECT, INDIRECT, INCIDENTAL, SPECIAL, EXEMPLARY, OR CONSEQUENTIAL DAMAGES\n",
    "(INCLUDING, BUT NOT LIMITED TO, PROCUREMENT OF SUBSTITUTE GOODS OR SERVICES;\n",
    "LOSS OF USE, DATA, OR PROFITS; OR BUSINESS INTERRUPTION) HOWEVER CAUSED AND\n",
    "ON ANY THEORY OF LIABILITY, WHETHER IN CONTRACT, STRICT LIABILITY, OR TORT\n",
    "(INCLUDING NEGLIGENCE OR OTHERWISE) ARISING IN ANY WAY OUT OF THE USE OF THIS\n",
    "SOFTWARE, EVEN IF ADVISED OF THE POSSIBILITY OF SUCH DAMAGE."
   ]
  },
  {
   "cell_type": "code",
   "execution_count": 1,
   "id": "4da24e59",
   "metadata": {},
   "outputs": [],
   "source": [
    "import pandas as pd\n",
    "from pandas.api.types import is_numeric_dtype\n",
    "\n",
    "import tensorflow as tf\n",
    "\n",
    "from keras.models import Sequential\n",
    "from keras.layers import Dense\n",
    "from keras.layers import Normalization\n",
    "from keras.wrappers.scikit_learn import KerasClassifier\n",
    "from keras.utils import np_utils\n",
    "\n",
    "from sklearn.preprocessing import LabelEncoder\n",
    "\n",
    "from numpy import array\n",
    "\n",
    "import matplotlib.pyplot as plt"
   ]
  },
  {
   "cell_type": "code",
   "execution_count": 2,
   "id": "9e7320b2",
   "metadata": {},
   "outputs": [],
   "source": [
    "iris = pd.read_csv (\"../Data/iris.csv\")"
   ]
  },
  {
   "cell_type": "code",
   "execution_count": 3,
   "id": "4f2bd8ab",
   "metadata": {},
   "outputs": [],
   "source": [
    "irisPredictors = iris.values[:, 0:4].astype(float)          # Split off our input features\n",
    "Labels = iris.values [:, 4]"
   ]
  },
  {
   "cell_type": "code",
   "execution_count": 4,
   "id": "b97b7acb",
   "metadata": {},
   "outputs": [],
   "source": [
    "# Hot-encode our species.  This is done as follows:\n",
    "# 1. Discover all of the unique labels and assign them a unique integers.\n",
    "#    The integers corrospond to indices in the hot-encoded vector.\n",
    "\n",
    "# 2. Build a vector of integers corrosponding to their labels\n",
    "\n",
    "# 3. Build an array of vectors where only the correct entry has a 1\n",
    "\n",
    "Hot = LabelEncoder ()\n",
    "Hot.fit (Labels)                      # Find the unique labels and assign indices (1)\n",
    "HotLabels = Hot.transform (Labels)    # Build a vector of indices (2)\n",
    "\n",
    "HotEncodedVectors = np_utils.to_categorical (HotLabels) # Finally, build the vectors (3)"
   ]
  },
  {
   "cell_type": "code",
   "execution_count": 5,
   "id": "b8ceb006",
   "metadata": {},
   "outputs": [],
   "source": [
    "def IrisModelFactory (topology):\n",
    "    \n",
    "    model = Sequential() \n",
    "    \n",
    "    model.add (Normalization (input_dim = 4)) # 4 predictors in the data set\n",
    "\n",
    "    for layer in topology:\n",
    "        model.add (Dense (layer, activation='relu'))\n",
    "\n",
    "    model.add (Dense (3, activation='softmax'))\n",
    "    \n",
    "    model.compile (loss='categorical_crossentropy', optimizer='Adam')\n",
    "    \n",
    "    return model\n"
   ]
  },
  {
   "cell_type": "code",
   "execution_count": 6,
   "id": "6f13cda9",
   "metadata": {},
   "outputs": [
    {
     "name": "stdout",
     "output_type": "stream",
     "text": [
      "Metal device set to: Apple M1\n"
     ]
    },
    {
     "name": "stderr",
     "output_type": "stream",
     "text": [
      "2023-12-05 17:39:58.197146: I tensorflow/core/common_runtime/pluggable_device/pluggable_device_factory.cc:306] Could not identify NUMA node of platform GPU ID 0, defaulting to 0. Your kernel may not have been built with NUMA support.\n",
      "2023-12-05 17:39:58.197252: I tensorflow/core/common_runtime/pluggable_device/pluggable_device_factory.cc:272] Created TensorFlow device (/job:localhost/replica:0/task:0/device:GPU:0 with 0 MB memory) -> physical PluggableDevice (device: 0, name: METAL, pci bus id: <undefined>)\n",
      "2023-12-05 17:39:58.294312: W tensorflow/core/platform/profile_utils/cpu_utils.cc:128] Failed to get CPU frequency: 0 Hz\n",
      "2023-12-05 17:39:58.331067: I tensorflow/core/grappler/optimizers/custom_graph_optimizer_registry.cc:114] Plugin optimizer for device_type GPU is enabled.\n"
     ]
    }
   ],
   "source": [
    "IrisModel = IrisModelFactory ([10, 10])\n",
    "\n",
    "IrisModel.layers[0].adapt (irisPredictors)\n"
   ]
  },
  {
   "cell_type": "code",
   "execution_count": 7,
   "id": "3bb769af",
   "metadata": {},
   "outputs": [
    {
     "name": "stderr",
     "output_type": "stream",
     "text": [
      "2023-12-05 17:39:58.556188: I tensorflow/core/grappler/optimizers/custom_graph_optimizer_registry.cc:114] Plugin optimizer for device_type GPU is enabled.\n"
     ]
    }
   ],
   "source": [
    "h = IrisModel.fit (irisPredictors, HotEncodedVectors, verbose=False, epochs = 5000)"
   ]
  }
 ],
 "metadata": {
  "kernelspec": {
   "display_name": "Python 3 (ipykernel)",
   "language": "python",
   "name": "python3"
  },
  "language_info": {
   "codemirror_mode": {
    "name": "ipython",
    "version": 3
   },
   "file_extension": ".py",
   "mimetype": "text/x-python",
   "name": "python",
   "nbconvert_exporter": "python",
   "pygments_lexer": "ipython3",
   "version": "3.9.10"
  }
 },
 "nbformat": 4,
 "nbformat_minor": 5
}
