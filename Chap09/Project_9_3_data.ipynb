{
 "cells": [
  {
   "cell_type": "markdown",
   "id": "e8515d84",
   "metadata": {},
   "source": [
    "Copyright (c) 2023, Douglas Santry\n",
    "All rights reserved.\n",
    "\n",
    "Redistribution and use in source and binary forms, with or without\n",
    "modification, is permitted provided that the following conditions are met:\n",
    "\n",
    "1. Redistributions of source code must retain the above copyright notice, this\n",
    "   list of conditions and the following disclaimer.\n",
    "2. Redistributions in binary form must reproduce the above copyright notice,\n",
    "   this list of conditions and the following disclaimer in the documentation\n",
    "   and/or other materials provided with the distribution.\n",
    "\n",
    "THIS SOFTWARE IS PROVIDED BY THE COPYRIGHT HOLDERS AND CONTRIBUTORS \"AS IS\" AND\n",
    "ANY EXPRESS OR IMPLIED WARRANTIES, INCLUDING, BUT NOT LIMITED TO, THE IMPLIED\n",
    "WARRANTIES OF MERCHANTABILITY AND FITNESS FOR A PARTICULAR PURPOSE ARE\n",
    "DISCLAIMED. IN NO EVENT SHALL THE COPYRIGHT OWNER OR CONTRIBUTORS BE LIABLE FOR\n",
    "ANY DIRECT, INDIRECT, INCIDENTAL, SPECIAL, EXEMPLARY, OR CONSEQUENTIAL DAMAGES\n",
    "(INCLUDING, BUT NOT LIMITED TO, PROCUREMENT OF SUBSTITUTE GOODS OR SERVICES;\n",
    "LOSS OF USE, DATA, OR PROFITS; OR BUSINESS INTERRUPTION) HOWEVER CAUSED AND\n",
    "ON ANY THEORY OF LIABILITY, WHETHER IN CONTRACT, STRICT LIABILITY, OR TORT\n",
    "(INCLUDING NEGLIGENCE OR OTHERWISE) ARISING IN ANY WAY OUT OF THE USE OF THIS\n",
    "SOFTWARE, EVEN IF ADVISED OF THE POSSIBILITY OF SUCH DAMAGE.\n"
   ]
  },
  {
   "cell_type": "code",
   "execution_count": 1,
   "id": "0a82dc30",
   "metadata": {},
   "outputs": [],
   "source": [
    "import pandas as pd\n",
    "import glob\n",
    "import os\n",
    "import pathlib\n",
    "\n",
    "import tensorflow as tf\n",
    "\n",
    "from datasets import Dataset, DatasetDict\n"
   ]
  },
  {
   "cell_type": "code",
   "execution_count": 2,
   "id": "0e18b3e7",
   "metadata": {},
   "outputs": [],
   "source": [
    "DataLocation = \"/Users/dsantry/Scratch/Data/BBC/bbc\""
   ]
  },
  {
   "cell_type": "code",
   "execution_count": 3,
   "id": "dfd2bb24",
   "metadata": {},
   "outputs": [],
   "source": [
    "folders = glob.glob (f\"{DataLocation}/*\")"
   ]
  },
  {
   "cell_type": "code",
   "execution_count": 4,
   "id": "1f4e36ee",
   "metadata": {},
   "outputs": [],
   "source": [
    "folders = [*filter (lambda u : True if(os.path.isdir (u)) else False, folders)]"
   ]
  },
  {
   "cell_type": "code",
   "execution_count": 5,
   "id": "83c980e4",
   "metadata": {},
   "outputs": [
    {
     "data": {
      "text/plain": [
       "['/Users/dsantry/Scratch/Data/BBC/bbc/entertainment',\n",
       " '/Users/dsantry/Scratch/Data/BBC/bbc/business',\n",
       " '/Users/dsantry/Scratch/Data/BBC/bbc/sport',\n",
       " '/Users/dsantry/Scratch/Data/BBC/bbc/politics',\n",
       " '/Users/dsantry/Scratch/Data/BBC/bbc/tech']"
      ]
     },
     "execution_count": 5,
     "metadata": {},
     "output_type": "execute_result"
    }
   ],
   "source": [
    "folders"
   ]
  },
  {
   "cell_type": "code",
   "execution_count": 6,
   "id": "beb279c8",
   "metadata": {},
   "outputs": [
    {
     "data": {
      "text/plain": [
       "['entertainment', 'business', 'sport', 'politics', 'tech']"
      ]
     },
     "execution_count": 6,
     "metadata": {},
     "output_type": "execute_result"
    }
   ],
   "source": [
    "labels = [os.path.basename (u) for u in folders]\n",
    "labels"
   ]
  },
  {
   "cell_type": "code",
   "execution_count": 7,
   "id": "5b9f7ad4",
   "metadata": {
    "scrolled": false
   },
   "outputs": [],
   "source": [
    "\n",
    "TrainingSetX = []\n",
    "TrainingLabels = []\n",
    "DocIDList = []\n",
    "DocID = 0\n",
    "labelZ = 0\n",
    "\n",
    "for folder, label in zip (folders, labels):\n",
    "    \n",
    "    examples = glob.glob (f\"{folder}/*\")\n",
    "\n",
    "    for example in examples:\n",
    "\n",
    "        DocID += 1 #\n",
    "\n",
    "        fd = open (example, \"r\", errors=\"ignore\")\n",
    "        text = fd.readlines () #.decode(errors='replace')\n",
    "        fd.close ()\n",
    "\n",
    "        # *** Strip the \\n\n",
    "        \n",
    "        Nstrings = len (text)\n",
    "\n",
    "        index = 0\n",
    "        \n",
    "        while index < Nstrings:\n",
    "            \n",
    "            if index >= Nstrings:\n",
    "                break\n",
    "                \n",
    "            text[index] = text[index].rstrip (\"\\n\")\n",
    "            \n",
    "            if len (text[index]) == 0:\n",
    "                text.pop (index)\n",
    "                Nstrings -= 1\n",
    "            else:\n",
    "                index += 1\n",
    "\n",
    "        # *** build the LLM block size segments for the example\n",
    "\n",
    "        total = sum ([*map (len, text)])\n",
    "        index = 0\n",
    "        segmentLen = 0\n",
    "        segment = \"\"\n",
    "\n",
    "        while total > 0:\n",
    "\n",
    "            u = text[index]\n",
    "            sentenceLength = len (u)\n",
    "            \n",
    "            if sentenceLength + segmentLen < 3072:\n",
    "                segment += u\n",
    "                segmentLen += sentenceLength\n",
    "            else:\n",
    "                TrainingSetX.append (segment)\n",
    "                TrainingLabels.append (labelZ)\n",
    "                DocIDList.append (DocID)\n",
    "                segment = u\n",
    "                segmentLen = sentenceLength\n",
    "        \n",
    "            total -= sentenceLength\n",
    "            index += 1\n",
    "\n",
    "        TrainingSetX.append (segment)\n",
    "        TrainingLabels.append (labelZ)\n",
    "        DocIDList.append (DocID)\n",
    "        \n",
    "        # per example end\n",
    "        \n",
    "    labelZ += 1 # outer loop, per category\n"
   ]
  },
  {
   "cell_type": "code",
   "execution_count": 8,
   "id": "7184de68",
   "metadata": {},
   "outputs": [],
   "source": [
    "df = pd.DataFrame (list (zip (TrainingSetX, TrainingLabels, DocIDList)), columns =[\"Text\", \"Label\", \"DocID\"])"
   ]
  },
  {
   "cell_type": "code",
   "execution_count": 9,
   "id": "b03541e7",
   "metadata": {},
   "outputs": [
    {
     "data": {
      "text/html": [
       "<div>\n",
       "<style scoped>\n",
       "    .dataframe tbody tr th:only-of-type {\n",
       "        vertical-align: middle;\n",
       "    }\n",
       "\n",
       "    .dataframe tbody tr th {\n",
       "        vertical-align: top;\n",
       "    }\n",
       "\n",
       "    .dataframe thead th {\n",
       "        text-align: right;\n",
       "    }\n",
       "</style>\n",
       "<table border=\"1\" class=\"dataframe\">\n",
       "  <thead>\n",
       "    <tr style=\"text-align: right;\">\n",
       "      <th></th>\n",
       "      <th>Text</th>\n",
       "      <th>Label</th>\n",
       "      <th>DocID</th>\n",
       "    </tr>\n",
       "  </thead>\n",
       "  <tbody>\n",
       "    <tr>\n",
       "      <th>0</th>\n",
       "      <td>Musicians to tackle US red tapeMusicians' grou...</td>\n",
       "      <td>0</td>\n",
       "      <td>1</td>\n",
       "    </tr>\n",
       "    <tr>\n",
       "      <th>1</th>\n",
       "      <td>U2's desire to be number oneU2, who have won t...</td>\n",
       "      <td>0</td>\n",
       "      <td>2</td>\n",
       "    </tr>\n",
       "    <tr>\n",
       "      <th>2</th>\n",
       "      <td>By 1978, they had won a talent contest and got...</td>\n",
       "      <td>0</td>\n",
       "      <td>2</td>\n",
       "    </tr>\n",
       "    <tr>\n",
       "      <th>3</th>\n",
       "      <td>Rocker Doherty in on-stage fightRock singer Pe...</td>\n",
       "      <td>0</td>\n",
       "      <td>3</td>\n",
       "    </tr>\n",
       "    <tr>\n",
       "      <th>4</th>\n",
       "      <td>Snicket tops US box office chartThe film adapt...</td>\n",
       "      <td>0</td>\n",
       "      <td>4</td>\n",
       "    </tr>\n",
       "    <tr>\n",
       "      <th>...</th>\n",
       "      <td>...</td>\n",
       "      <td>...</td>\n",
       "      <td>...</td>\n",
       "    </tr>\n",
       "    <tr>\n",
       "      <th>2671</th>\n",
       "      <td>Warning over Windows Word filesWriting a Micro...</td>\n",
       "      <td>4</td>\n",
       "      <td>2221</td>\n",
       "    </tr>\n",
       "    <tr>\n",
       "      <th>2672</th>\n",
       "      <td>Fast lifts rise into record booksTwo high-spee...</td>\n",
       "      <td>4</td>\n",
       "      <td>2222</td>\n",
       "    </tr>\n",
       "    <tr>\n",
       "      <th>2673</th>\n",
       "      <td>Nintendo adds media playing to DSNintendo is r...</td>\n",
       "      <td>4</td>\n",
       "      <td>2223</td>\n",
       "    </tr>\n",
       "    <tr>\n",
       "      <th>2674</th>\n",
       "      <td>Fast moving phone viruses appearSecurity firms...</td>\n",
       "      <td>4</td>\n",
       "      <td>2224</td>\n",
       "    </tr>\n",
       "    <tr>\n",
       "      <th>2675</th>\n",
       "      <td>Hacker threat to Apple's iTunesUsers of Apple'...</td>\n",
       "      <td>4</td>\n",
       "      <td>2225</td>\n",
       "    </tr>\n",
       "  </tbody>\n",
       "</table>\n",
       "<p>2676 rows × 3 columns</p>\n",
       "</div>"
      ],
      "text/plain": [
       "                                                   Text  Label  DocID\n",
       "0     Musicians to tackle US red tapeMusicians' grou...      0      1\n",
       "1     U2's desire to be number oneU2, who have won t...      0      2\n",
       "2     By 1978, they had won a talent contest and got...      0      2\n",
       "3     Rocker Doherty in on-stage fightRock singer Pe...      0      3\n",
       "4     Snicket tops US box office chartThe film adapt...      0      4\n",
       "...                                                 ...    ...    ...\n",
       "2671  Warning over Windows Word filesWriting a Micro...      4   2221\n",
       "2672  Fast lifts rise into record booksTwo high-spee...      4   2222\n",
       "2673  Nintendo adds media playing to DSNintendo is r...      4   2223\n",
       "2674  Fast moving phone viruses appearSecurity firms...      4   2224\n",
       "2675  Hacker threat to Apple's iTunesUsers of Apple'...      4   2225\n",
       "\n",
       "[2676 rows x 3 columns]"
      ]
     },
     "execution_count": 9,
     "metadata": {},
     "output_type": "execute_result"
    }
   ],
   "source": [
    "df"
   ]
  },
  {
   "cell_type": "code",
   "execution_count": 10,
   "id": "97a859c4",
   "metadata": {},
   "outputs": [],
   "source": [
    "W = Dataset.from_pandas(df)"
   ]
  },
  {
   "cell_type": "code",
   "execution_count": 11,
   "id": "c99c92ee",
   "metadata": {},
   "outputs": [
    {
     "data": {
      "text/plain": [
       "Dataset({\n",
       "    features: ['Text', 'Label', 'DocID'],\n",
       "    num_rows: 2676\n",
       "})"
      ]
     },
     "execution_count": 11,
     "metadata": {},
     "output_type": "execute_result"
    }
   ],
   "source": [
    "W"
   ]
  }
 ],
 "metadata": {
  "kernelspec": {
   "display_name": "Python 3 (ipykernel)",
   "language": "python",
   "name": "python3"
  },
  "language_info": {
   "codemirror_mode": {
    "name": "ipython",
    "version": 3
   },
   "file_extension": ".py",
   "mimetype": "text/x-python",
   "name": "python",
   "nbconvert_exporter": "python",
   "pygments_lexer": "ipython3",
   "version": "3.9.10"
  }
 },
 "nbformat": 4,
 "nbformat_minor": 5
}
