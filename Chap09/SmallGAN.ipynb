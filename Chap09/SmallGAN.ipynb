{
 "cells": [
  {
   "cell_type": "code",
   "execution_count": 1,
   "metadata": {
    "execution": {
     "iopub.execute_input": "2022-12-14T06:05:25.208998Z",
     "iopub.status.busy": "2022-12-14T06:05:25.208327Z",
     "iopub.status.idle": "2022-12-14T06:05:25.605914Z",
     "shell.execute_reply": "2022-12-14T06:05:25.605186Z"
    },
    "id": "YfIk2es3hJEd"
   },
   "outputs": [],
   "source": [
    "import matplotlib.pyplot as plt\n",
    "import numpy as np\n",
    "\n",
    "from tensorflow.keras import layers\n",
    "import tensorflow as tf\n",
    "\n",
    "from IPython import display"
   ]
  },
  {
   "cell_type": "code",
   "execution_count": 2,
   "metadata": {
    "execution": {
     "iopub.execute_input": "2022-12-14T06:05:25.610623Z",
     "iopub.status.busy": "2022-12-14T06:05:25.609967Z",
     "iopub.status.idle": "2022-12-14T06:05:25.873897Z",
     "shell.execute_reply": "2022-12-14T06:05:25.873140Z"
    },
    "id": "a4fYMGxGhrna"
   },
   "outputs": [],
   "source": [
    "(train_images, train_labels), (_, _) = tf.keras.datasets.mnist.load_data ()"
   ]
  },
  {
   "cell_type": "code",
   "execution_count": 3,
   "metadata": {
    "execution": {
     "iopub.execute_input": "2022-12-14T06:05:25.878399Z",
     "iopub.status.busy": "2022-12-14T06:05:25.877727Z",
     "iopub.status.idle": "2022-12-14T06:05:26.027365Z",
     "shell.execute_reply": "2022-12-14T06:05:26.026555Z"
    },
    "id": "NFC2ghIdiZYE"
   },
   "outputs": [],
   "source": [
    "train_images = train_images.reshape(train_images.shape[0], 28, 28, 1).astype('float32')"
   ]
  },
  {
   "cell_type": "code",
   "execution_count": 4,
   "metadata": {},
   "outputs": [
    {
     "name": "stderr",
     "output_type": "stream",
     "text": [
      "2023-12-20 15:15:33.159058: I tensorflow/core/common_runtime/pluggable_device/pluggable_device_factory.cc:306] Could not identify NUMA node of platform GPU ID 0, defaulting to 0. Your kernel may not have been built with NUMA support.\n",
      "2023-12-20 15:15:33.159149: I tensorflow/core/common_runtime/pluggable_device/pluggable_device_factory.cc:272] Created TensorFlow device (/job:localhost/replica:0/task:0/device:GPU:0 with 0 MB memory) -> physical PluggableDevice (device: 0, name: METAL, pci bus id: <undefined>)\n"
     ]
    },
    {
     "name": "stdout",
     "output_type": "stream",
     "text": [
      "Metal device set to: Apple M1\n"
     ]
    }
   ],
   "source": [
    "#\n",
    "# We're only going to learn how to generate 1 digit.  \n",
    "# This saves time and makes it easier for smaller computers.\n",
    "#\n",
    "\n",
    "MaxExamples = 7000\n",
    "targetDigit = 7          # The digit that we are going to learn to draw (generate)\n",
    "\n",
    "targetIm = np.empty ([MaxExamples, 28, 28, 1])\n",
    "\n",
    "total = 0\n",
    "for i in range (60000):\n",
    "    if train_labels[i] != targetDigit:\n",
    "        continue\n",
    "\n",
    "    x = train_images[i]\n",
    "    x = tf.reshape (x, [1, 28, 28, 1])\n",
    "    targetIm[total] = x[0]\n",
    "    total = total + 1\n",
    "\n"
   ]
  },
  {
   "cell_type": "code",
   "execution_count": 5,
   "metadata": {},
   "outputs": [
    {
     "data": {
      "text/plain": [
       "<tf.Tensor: shape=(4,), dtype=int32, numpy=array([6265,   28,   28,    1], dtype=int32)>"
      ]
     },
     "execution_count": 5,
     "metadata": {},
     "output_type": "execute_result"
    }
   ],
   "source": [
    "# Reshape to ensure that all entries are valid\n",
    "targetIm = targetIm[0:total]\n",
    "\n",
    "tf.shape (targetIm)"
   ]
  },
  {
   "cell_type": "code",
   "execution_count": 6,
   "metadata": {},
   "outputs": [],
   "source": [
    "#\n",
    "# Values are [0, 255], so normalize the images to [-1, 1]\n",
    "#\n",
    "\n",
    "targetIm = (targetIm - 127.5) / 127.5  "
   ]
  },
  {
   "cell_type": "code",
   "execution_count": 7,
   "metadata": {
    "execution": {
     "iopub.execute_input": "2022-12-14T06:05:26.031567Z",
     "iopub.status.busy": "2022-12-14T06:05:26.031294Z",
     "iopub.status.idle": "2022-12-14T06:05:26.034760Z",
     "shell.execute_reply": "2022-12-14T06:05:26.034147Z"
    },
    "id": "S4PIDhoDLbsZ"
   },
   "outputs": [],
   "source": [
    "GROUND_TRUTH_SIZE = total  # The number of examples of the target digit that we found\n",
    "BATCH_SIZE = 256           # Number of examples to use per update.  Smaller means faster epochs."
   ]
  },
  {
   "cell_type": "code",
   "execution_count": 8,
   "metadata": {},
   "outputs": [
    {
     "data": {
      "text/plain": [
       "<matplotlib.image.AxesImage at 0x168eedcd0>"
      ]
     },
     "execution_count": 8,
     "metadata": {},
     "output_type": "execute_result"
    },
    {
     "data": {
      "image/png": "[encoded data removed]",
      "text/plain": [
       "<Figure size 432x288 with 1 Axes>"
      ]
     },
     "metadata": {
      "needs_background": "light"
     },
     "output_type": "display_data"
    }
   ],
   "source": [
    "plt.imshow (targetIm[4000]) # Correct digit?"
   ]
  },
  {
   "cell_type": "code",
   "execution_count": 9,
   "metadata": {
    "execution": {
     "iopub.execute_input": "2022-12-14T06:05:26.038219Z",
     "iopub.status.busy": "2022-12-14T06:05:26.037553Z",
     "iopub.status.idle": "2022-12-14T06:05:29.795940Z",
     "shell.execute_reply": "2022-12-14T06:05:29.795232Z"
    },
    "id": "-yKCCQOoJ7cn"
   },
   "outputs": [],
   "source": [
    "#\n",
    "# Shuffle the data and construct batches\n",
    "#\n",
    "\n",
    "train_dataset = tf.data.Dataset.from_tensor_slices (targetIm).shuffle (GROUND_TRUTH_SIZE).batch (BATCH_SIZE)\n"
   ]
  },
  {
   "cell_type": "code",
   "execution_count": 10,
   "metadata": {},
   "outputs": [],
   "source": [
    "noiseVecDim = 100 \n",
    "\n",
    "# \n",
    "# A returned model is a mapping: noiseVecDim x 1 --> 28 x 28\n",
    "#\n",
    "# Note that 28x28=784 > 100.  The input dimensions are not the most important thing: it is the learned\n",
    "# transformation in the form of the tranpose convolutions (their learnable parameters).\n",
    "#\n",
    "#\n",
    "\n",
    "def BuildForger ():\n",
    "    \n",
    "    model = tf.keras.Sequential ()\n",
    "\n",
    "    model.add (layers.Dense(7*7*256, use_bias=False, activation=\"relu\", input_shape=(noiseVecDim,)))\n",
    "    model.add (layers.BatchNormalization())\n",
    "\n",
    "    model.add (layers.Reshape((14, 14, 64)))\n",
    "\n",
    "    model.add (layers.Conv2DTranspose (128, (3, 3), strides=(1, 1), padding='same', use_bias=False))\n",
    "    model.add (layers.BatchNormalization())\n",
    "    model.add (layers.LeakyReLU())\n",
    "\n",
    "    model.add (layers.Conv2DTranspose (64, (3, 3), strides=(2, 2), padding='same', use_bias=False))\n",
    "    model.add (layers.BatchNormalization())\n",
    "    model.add (layers.LeakyReLU())\n",
    "\n",
    "    model.add (layers.Conv2DTranspose(1, (2, 2), strides=(1, 1), padding='same', use_bias=False, activation='tanh'))\n",
    "    assert model.output_shape == (None, 28, 28, 1)\n",
    "\n",
    "    return model"
   ]
  },
  {
   "cell_type": "code",
   "execution_count": 11,
   "metadata": {},
   "outputs": [
    {
     "data": {
      "text/plain": [
       "(None, 28, 28, 1)"
      ]
     },
     "execution_count": 11,
     "metadata": {},
     "output_type": "execute_result"
    }
   ],
   "source": [
    "G = BuildForger ()  # Build forger\n",
    "\n",
    "G.output_shape"
   ]
  },
  {
   "cell_type": "code",
   "execution_count": 12,
   "metadata": {
    "execution": {
     "iopub.execute_input": "2022-12-14T06:05:29.810081Z",
     "iopub.status.busy": "2022-12-14T06:05:29.809496Z",
     "iopub.status.idle": "2022-12-14T06:05:31.428931Z",
     "shell.execute_reply": "2022-12-14T06:05:31.428297Z"
    },
    "id": "gl7jcC7TdPTG"
   },
   "outputs": [
    {
     "data": {
      "text/plain": [
       "<matplotlib.image.AxesImage at 0x2885d9c70>"
      ]
     },
     "execution_count": 12,
     "metadata": {},
     "output_type": "execute_result"
    },
    {
     "data": {
      "image/png": "[encoded data removed]",
      "text/plain": [
       "<Figure size 432x288 with 1 Axes>"
      ]
     },
     "metadata": {
      "needs_background": "light"
     },
     "output_type": "display_data"
    }
   ],
   "source": [
    "noise = tf.random.normal ([1, noiseVecDim])\n",
    "\n",
    "fake = G (noise, training=False)\n",
    "\n",
    "plt.imshow (fake[0], cmap='copper') # currently just the expected random noise"
   ]
  },
  {
   "cell_type": "code",
   "execution_count": 13,
   "metadata": {
    "execution": {
     "iopub.execute_input": "2022-12-14T06:05:31.432468Z",
     "iopub.status.busy": "2022-12-14T06:05:31.431866Z",
     "iopub.status.idle": "2022-12-14T06:05:31.436863Z",
     "shell.execute_reply": "2022-12-14T06:05:31.436308Z"
    },
    "id": "dw2tPLmk2pEP"
   },
   "outputs": [],
   "source": [
    "#\n",
    "# This return a model that acts as a gatekeeper.  It is not very different from\n",
    "# the MNIST classifers in the other notebooks.\n",
    "#\n",
    "\n",
    "def BuildAppraiser ():\n",
    "    \n",
    "    model = tf.keras.Sequential()\n",
    "    model.add(layers.Conv2D(64, (3, 3), \n",
    "                            strides=(1, 1), \n",
    "                            padding='same',\n",
    "                            input_shape=[28, 28, 1]))\n",
    "\n",
    "    model.add (layers.Conv2D (128, (5, 5), strides=(2, 2), padding='same'))\n",
    "    model.add (layers.LeakyReLU())\n",
    "\n",
    "    model.add (layers.Flatten())\n",
    "    model.add (layers.Dense(75, activation=\"relu\"))\n",
    "    model.add (layers.Dense(75, activation=\"relu\"))\n",
    "    model.add (layers.Dense(1))\n",
    "\n",
    "    return model\n"
   ]
  },
  {
   "cell_type": "code",
   "execution_count": 14,
   "metadata": {
    "execution": {
     "iopub.execute_input": "2022-12-14T06:05:31.439764Z",
     "iopub.status.busy": "2022-12-14T06:05:31.439541Z",
     "iopub.status.idle": "2022-12-14T06:05:31.501941Z",
     "shell.execute_reply": "2022-12-14T06:05:31.501293Z"
    },
    "id": "gDkA05NE6QMs"
   },
   "outputs": [
    {
     "name": "stdout",
     "output_type": "stream",
     "text": [
      "tf.Tensor([[-0.00588027]], shape=(1, 1), dtype=float32)\n"
     ]
    }
   ],
   "source": [
    "D = BuildAppraiser ()\n",
    "decision = D (fake)\n",
    "\n",
    "print (decision)"
   ]
  },
  {
   "cell_type": "code",
   "execution_count": 15,
   "metadata": {
    "execution": {
     "iopub.execute_input": "2022-12-14T06:05:31.505261Z",
     "iopub.status.busy": "2022-12-14T06:05:31.504753Z",
     "iopub.status.idle": "2022-12-14T06:05:31.508111Z",
     "shell.execute_reply": "2022-12-14T06:05:31.507462Z"
    },
    "id": "psQfmXxYKU3X"
   },
   "outputs": [],
   "source": [
    "MLE = tf.keras.losses.BinaryCrossentropy (from_logits=True)"
   ]
  },
  {
   "cell_type": "code",
   "execution_count": 16,
   "metadata": {
    "execution": {
     "iopub.execute_input": "2022-12-14T06:05:31.511469Z",
     "iopub.status.busy": "2022-12-14T06:05:31.511013Z",
     "iopub.status.idle": "2022-12-14T06:05:31.514796Z",
     "shell.execute_reply": "2022-12-14T06:05:31.514013Z"
    },
    "id": "wkMNfBWlT-PV"
   },
   "outputs": [],
   "source": [
    "def D_loss (real_output, fake_output):\n",
    "    \n",
    "    real_loss = MLE (tf.ones_like(real_output), real_output)   # 1 when D accepts an image\n",
    "    fake_loss = MLE (tf.zeros_like(fake_output), fake_output)  # 0 when D detects a fake\n",
    "    total_loss = real_loss + fake_loss\n",
    "    \n",
    "    return total_loss"
   ]
  },
  {
   "cell_type": "code",
   "execution_count": 17,
   "metadata": {
    "execution": {
     "iopub.execute_input": "2022-12-14T06:05:31.518406Z",
     "iopub.status.busy": "2022-12-14T06:05:31.517698Z",
     "iopub.status.idle": "2022-12-14T06:05:31.521026Z",
     "shell.execute_reply": "2022-12-14T06:05:31.520437Z"
    },
    "id": "90BIcCKcDMxz"
   },
   "outputs": [],
   "source": [
    "def G_loss (fake_output):\n",
    "    return MLE (tf.ones_like(fake_output), fake_output)        # We want a 1 from the gatekeeper"
   ]
  },
  {
   "cell_type": "code",
   "execution_count": 18,
   "metadata": {
    "execution": {
     "iopub.execute_input": "2022-12-14T06:05:31.524343Z",
     "iopub.status.busy": "2022-12-14T06:05:31.523771Z",
     "iopub.status.idle": "2022-12-14T06:05:31.531338Z",
     "shell.execute_reply": "2022-12-14T06:05:31.530772Z"
    },
    "id": "iWCn_PVdEJZ7"
   },
   "outputs": [],
   "source": [
    "G_optimizer = tf.keras.optimizers.Adam (1e-4)\n",
    "D_optimizer = tf.keras.optimizers.Adam (1e-4)"
   ]
  },
  {
   "cell_type": "code",
   "execution_count": 19,
   "metadata": {
    "execution": {
     "iopub.execute_input": "2022-12-14T06:05:31.541234Z",
     "iopub.status.busy": "2022-12-14T06:05:31.540683Z",
     "iopub.status.idle": "2022-12-14T06:05:31.544548Z",
     "shell.execute_reply": "2022-12-14T06:05:31.544000Z"
    },
    "id": "NS2GWywBbAWo"
   },
   "outputs": [],
   "source": [
    "EPOCHS = 100  # The number of epochs, the more the better until it plateaus.\n",
    "\n",
    "#\n",
    "# To watch the evolution of the training we store 4 random input vectors for G.\n",
    "# As G improves the input vectors will start to look like the digit we're\n",
    "# trying to draw.\n",
    "#\n",
    "\n",
    "TrackSolution = tf.random.normal([4, noiseVecDim])"
   ]
  },
  {
   "cell_type": "code",
   "execution_count": 20,
   "metadata": {
    "execution": {
     "iopub.execute_input": "2022-12-14T06:05:31.547874Z",
     "iopub.status.busy": "2022-12-14T06:05:31.547282Z",
     "iopub.status.idle": "2022-12-14T06:05:31.552573Z",
     "shell.execute_reply": "2022-12-14T06:05:31.551996Z"
    },
    "id": "3t5ibNo05jCB"
   },
   "outputs": [],
   "source": [
    "\n",
    "#\n",
    "# Algorithm 9.1\n",
    "#\n",
    "\n",
    "@tf.function # tensorflow decorator to compile the function for speed in training loop\n",
    "def train_step (images):\n",
    "    \n",
    "    noise = tf.random.normal ([BATCH_SIZE, noiseVecDim])\n",
    "\n",
    "    with tf.GradientTape () as gen_tape, tf.GradientTape () as disc_tape:\n",
    "\n",
    "        generated_images = G (noise, training=True)\n",
    "\n",
    "        real_output = D (images, training=True)\n",
    "        fake_output = D (generated_images, training=True)\n",
    "\n",
    "        gen_loss = G_loss (fake_output)\n",
    "        disc_loss = D_loss (real_output, fake_output)\n",
    "\n",
    "    gradients_of_G = gen_tape.gradient (gen_loss, G.trainable_variables)\n",
    "    gradients_of_D = disc_tape.gradient (disc_loss, D.trainable_variables)\n",
    "\n",
    "    G_optimizer.apply_gradients (zip (gradients_of_G, G.trainable_variables))\n",
    "    D_optimizer.apply_gradients (zip (gradients_of_D, D.trainable_variables))"
   ]
  },
  {
   "cell_type": "code",
   "execution_count": 21,
   "metadata": {
    "execution": {
     "iopub.execute_input": "2022-12-14T06:05:31.555913Z",
     "iopub.status.busy": "2022-12-14T06:05:31.555446Z",
     "iopub.status.idle": "2022-12-14T06:05:31.560355Z",
     "shell.execute_reply": "2022-12-14T06:05:31.559752Z"
    },
    "id": "2M7LmLtGEMQJ"
   },
   "outputs": [],
   "source": [
    "#\n",
    "# Algorithm 3.3\n",
    "#\n",
    "\n",
    "def train (dataset, epochs):\n",
    "\n",
    "    for epoch in range(epochs):\n",
    "        \n",
    "        for image_batch in dataset:\n",
    "            train_step (image_batch)\n",
    "\n",
    "        DrawProgress (G, TrackSolution)\n"
   ]
  },
  {
   "cell_type": "code",
   "execution_count": 22,
   "metadata": {
    "execution": {
     "iopub.execute_input": "2022-12-14T06:05:31.563940Z",
     "iopub.status.busy": "2022-12-14T06:05:31.563314Z",
     "iopub.status.idle": "2022-12-14T06:05:31.567885Z",
     "shell.execute_reply": "2022-12-14T06:05:31.567243Z"
    },
    "id": "RmdVsmvhPxyy"
   },
   "outputs": [],
   "source": [
    "def DrawProgress (model, test_input):\n",
    "\n",
    "    #\n",
    "    # Notice that we are using .predict instead of model () like above.  This is \n",
    "    # because model (x) is differentiable, required for training, and predict is not.\n",
    "    #\n",
    "    predictions = model.predict (TrackSolution)\n",
    "\n",
    "    display.clear_output (wait=True)\n",
    "    \n",
    "    for i in range (predictions.shape[0]):\n",
    "        plt.subplot(1, 4, i+1)\n",
    "        plt.imshow(predictions[i], cmap='copper')\n",
    "        plt.axis('off')\n",
    "\n",
    "    plt.show()"
   ]
  },
  {
   "cell_type": "code",
   "execution_count": 23,
   "metadata": {
    "execution": {
     "iopub.execute_input": "2022-12-14T06:05:31.571174Z",
     "iopub.status.busy": "2022-12-14T06:05:31.570673Z",
     "iopub.status.idle": "2022-12-14T06:10:51.121992Z",
     "shell.execute_reply": "2022-12-14T06:10:51.121193Z"
    },
    "id": "Ly3UN0SLLY2l"
   },
   "outputs": [
    {
     "data": {
      "image/png": "[encoded data removed]",
      "text/plain": [
       "<Figure size 432x288 with 4 Axes>"
      ]
     },
     "metadata": {
      "needs_background": "light"
     },
     "output_type": "display_data"
    }
   ],
   "source": [
    "train (train_dataset, EPOCHS)"
   ]
  },
  {
   "cell_type": "code",
   "execution_count": 24,
   "metadata": {},
   "outputs": [],
   "source": [
    "#\n",
    "# D was used to train G and can now be discarded.\n",
    "# \n",
    "# G is the result of training and the only model required when finished.  If you want to save G then:\n",
    "#\n",
    "# G.save (\"your path here\")\n",
    "#\n",
    "# Use the below to reload it in another notebook:\n",
    "#\n",
    "# G = keras.models.load_model(\"your path here\")\n",
    "#"
   ]
  },
  {
   "cell_type": "code",
   "execution_count": 25,
   "metadata": {},
   "outputs": [
    {
     "name": "stdout",
     "output_type": "stream",
     "text": [
      " 37/196 [====>.........................] - ETA: 0s"
     ]
    },
    {
     "name": "stderr",
     "output_type": "stream",
     "text": [
      "2023-12-20 15:29:27.738719: I tensorflow/core/grappler/optimizers/custom_graph_optimizer_registry.cc:114] Plugin optimizer for device_type GPU is enabled.\n"
     ]
    },
    {
     "name": "stdout",
     "output_type": "stream",
     "text": [
      "196/196 [==============================] - 1s 4ms/step\n"
     ]
    }
   ],
   "source": [
    "Y_ = D.predict (targetIm)"
   ]
  },
  {
   "cell_type": "code",
   "execution_count": 26,
   "metadata": {},
   "outputs": [
    {
     "data": {
      "text/plain": [
       "array([0.61739824])"
      ]
     },
     "execution_count": 26,
     "metadata": {},
     "output_type": "execute_result"
    }
   ],
   "source": [
    "sum (Y_ > 0) / total"
   ]
  },
  {
   "cell_type": "code",
   "execution_count": 27,
   "metadata": {},
   "outputs": [
    {
     "name": "stdout",
     "output_type": "stream",
     "text": [
      "1/1 [==============================] - 0s 18ms/step\n",
      "1/1 [==============================] - 0s 9ms/step\n",
      "1/1 [==============================] - 0s 9ms/step\n",
      "1/1 [==============================] - 0s 9ms/step\n",
      "1/1 [==============================] - 0s 8ms/step\n",
      "1/1 [==============================] - 0s 9ms/step\n",
      "1/1 [==============================] - 0s 9ms/step\n",
      "1/1 [==============================] - 0s 8ms/step\n",
      "1/1 [==============================] - 0s 9ms/step\n",
      "1/1 [==============================] - 0s 9ms/step\n",
      "1/1 [==============================] - 0s 8ms/step\n",
      "1/1 [==============================] - 0s 8ms/step\n",
      "1/1 [==============================] - 0s 8ms/step\n",
      "1/1 [==============================] - 0s 8ms/step\n",
      "1/1 [==============================] - 0s 9ms/step\n",
      "1/1 [==============================] - 0s 9ms/step\n",
      "1/1 [==============================] - 0s 8ms/step\n",
      "1/1 [==============================] - 0s 8ms/step\n",
      "1/1 [==============================] - 0s 8ms/step\n",
      "1/1 [==============================] - 0s 8ms/step\n"
     ]
    },
    {
     "data": {
      "image/png": "[encoded data removed]",
      "text/plain": [
       "<Figure size 432x288 with 1 Axes>"
      ]
     },
     "metadata": {
      "needs_background": "light"
     },
     "output_type": "display_data"
    }
   ],
   "source": [
    "\n",
    "fakes = []\n",
    "\n",
    "for i in range (20):\n",
    "    \n",
    "    noise = tf.random.normal([1, noiseVecDim])\n",
    "    generated_image = G (noise, training=False)\n",
    "    plt.imshow(generated_image[0, :, :, 0], cmap='gray')\n",
    "    fakes.append (D.predict (generated_image))"
   ]
  },
  {
   "cell_type": "code",
   "execution_count": 28,
   "metadata": {},
   "outputs": [
    {
     "data": {
      "text/plain": [
       "[array([[-0.00291509]], dtype=float32),\n",
       " array([[-0.00291509]], dtype=float32),\n",
       " array([[-0.00291509]], dtype=float32),\n",
       " array([[-0.00291509]], dtype=float32),\n",
       " array([[-0.00291509]], dtype=float32),\n",
       " array([[-0.00291509]], dtype=float32),\n",
       " array([[-0.00291509]], dtype=float32),\n",
       " array([[-0.00291509]], dtype=float32),\n",
       " array([[-0.00291509]], dtype=float32),\n",
       " array([[-0.00291509]], dtype=float32),\n",
       " array([[-0.00291509]], dtype=float32),\n",
       " array([[-0.00291509]], dtype=float32),\n",
       " array([[-0.00291509]], dtype=float32),\n",
       " array([[-0.00291509]], dtype=float32),\n",
       " array([[-0.00291509]], dtype=float32),\n",
       " array([[-0.00291509]], dtype=float32),\n",
       " array([[-0.00291509]], dtype=float32),\n",
       " array([[-0.00291509]], dtype=float32),\n",
       " array([[-0.00291509]], dtype=float32),\n",
       " array([[-0.00291509]], dtype=float32)]"
      ]
     },
     "execution_count": 28,
     "metadata": {},
     "output_type": "execute_result"
    }
   ],
   "source": [
    "fakes"
   ]
  }
 ],
 "metadata": {
  "accelerator": "GPU",
  "colab": {
   "collapsed_sections": [],
   "name": "dcgan.ipynb",
   "toc_visible": true
  },
  "kernelspec": {
   "display_name": "Python 3 (ipykernel)",
   "language": "python",
   "name": "python3"
  },
  "language_info": {
   "codemirror_mode": {
    "name": "ipython",
    "version": 3
   },
   "file_extension": ".py",
   "mimetype": "text/x-python",
   "name": "python",
   "nbconvert_exporter": "python",
   "pygments_lexer": "ipython3",
   "version": "3.9.10"
  }
 },
 "nbformat": 4,
 "nbformat_minor": 1
}
