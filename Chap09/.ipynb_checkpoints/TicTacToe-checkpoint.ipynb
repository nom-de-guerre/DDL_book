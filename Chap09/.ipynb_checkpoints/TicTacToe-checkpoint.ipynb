{
 "cells": [
  {
   "cell_type": "markdown",
   "id": "97159eb4",
   "metadata": {},
   "source": [
    "Copyright (c) 2023, Douglas Santry\n",
    "All rights reserved.\n",
    "\n",
    "Redistribution and use in source and binary forms, with or without\n",
    "modification, is permitted provided that the following conditions are met:\n",
    "\n",
    "1. Redistributions of source code must retain the above copyright notice, this\n",
    "   list of conditions and the following disclaimer.\n",
    "2. Redistributions in binary form must reproduce the above copyright notice,\n",
    "   this list of conditions and the following disclaimer in the documentation\n",
    "   and/or other materials provided with the distribution.\n",
    "\n",
    "THIS SOFTWARE IS PROVIDED BY THE COPYRIGHT HOLDERS AND CONTRIBUTORS \"AS IS\" AND\n",
    "ANY EXPRESS OR IMPLIED WARRANTIES, INCLUDING, BUT NOT LIMITED TO, THE IMPLIED\n",
    "WARRANTIES OF MERCHANTABILITY AND FITNESS FOR A PARTICULAR PURPOSE ARE\n",
    "DISCLAIMED. IN NO EVENT SHALL THE COPYRIGHT OWNER OR CONTRIBUTORS BE LIABLE FOR\n",
    "ANY DIRECT, INDIRECT, INCIDENTAL, SPECIAL, EXEMPLARY, OR CONSEQUENTIAL DAMAGES\n",
    "(INCLUDING, BUT NOT LIMITED TO, PROCUREMENT OF SUBSTITUTE GOODS OR SERVICES;\n",
    "LOSS OF USE, DATA, OR PROFITS; OR BUSINESS INTERRUPTION) HOWEVER CAUSED AND\n",
    "ON ANY THEORY OF LIABILITY, WHETHER IN CONTRACT, STRICT LIABILITY, OR TORT\n",
    "(INCLUDING NEGLIGENCE OR OTHERWISE) ARISING IN ANY WAY OUT OF THE USE OF THIS\n",
    "SOFTWARE, EVEN IF ADVISED OF THE POSSIBILITY OF SUCH DAMAGE.\n"
   ]
  },
  {
   "cell_type": "code",
   "execution_count": 1,
   "id": "1e878932",
   "metadata": {},
   "outputs": [],
   "source": [
    "import numpy as np"
   ]
  },
  {
   "cell_type": "code",
   "execution_count": 2,
   "id": "36c31de6",
   "metadata": {},
   "outputs": [],
   "source": [
    "def DisplayBoard (T):\n",
    "    print (\"Board:\\n\")\n",
    "    for i in range (0, 3):\n",
    "        for j in range (0, 3):\n",
    "            if T[i][j] == 0:\n",
    "                print (\"_\", end=\"\")\n",
    "            elif T[i][j] == 1:\n",
    "                print (\"X\", end=\"\")\n",
    "            else:\n",
    "                print (\"O\", end=\"\")\n",
    "\n",
    "        print (\"\\n\")"
   ]
  },
  {
   "cell_type": "code",
   "execution_count": 3,
   "id": "ee00db72",
   "metadata": {},
   "outputs": [],
   "source": [
    "def TicTacToeTest (T, condition):\n",
    "\n",
    "    down = 0\n",
    "    up = 0\n",
    "    \n",
    "    for row in range (0, 3):\n",
    "        \n",
    "        score = 0\n",
    "\n",
    "        for column in range (0, 3):\n",
    "            score = score + T[row][column]\n",
    "\n",
    "        if (abs (score) == 3):\n",
    "            return (True if score == condition else False)\n",
    "        \n",
    "        down = down + T[row][row]\n",
    "        up = up + T[row][2 - row]\n",
    "\n",
    "    if (abs (down) == 3):\n",
    "            return (True if down == condition else False)\n",
    "    if (abs (up) == 3):\n",
    "            return (True if up == condition else False)\n",
    "\n",
    "    for column in range (0, 3):\n",
    "        \n",
    "        score = 0\n",
    "\n",
    "        for row in range (0, 3):\n",
    "            score = score + T[row][column]\n",
    "\n",
    "        if (abs (score) == 3):\n",
    "            return (True if score == condition else False)\n",
    "\n",
    "    return False\n",
    "\n",
    "ZeroSumGame = TicTacToeTest"
   ]
  },
  {
   "cell_type": "code",
   "execution_count": 4,
   "id": "ff937c29",
   "metadata": {},
   "outputs": [],
   "source": [
    "#\n",
    "# Set up global stuff\n",
    "#\n",
    "\n",
    "T0 = [[0, 0, 0], [0, 0, 0], [0, 0, 0]]\n",
    "T_Empty = np.copy (T0)\n",
    "\n",
    "a0 = [0.5, 0.5, 0.5, 0.5, 0.5, 0.5, 0.5, 0.5, 0.5]\n",
    "\n",
    "DPState = { str (T0): a0 }       # actions\n",
    "DPCount = { str (T0): 0 }        # k, for the updates\n",
    "\n",
    "epsilon = 0.5\n",
    "\n",
    "moves = 0\n",
    "explored = 0"
   ]
  },
  {
   "cell_type": "code",
   "execution_count": 5,
   "id": "a33a2262",
   "metadata": {},
   "outputs": [],
   "source": [
    "def TupleFromLinear (index):\n",
    "    row = int (index / 3)\n",
    "    column = int (index % 3)\n",
    "    \n",
    "    return row, column"
   ]
  },
  {
   "cell_type": "code",
   "execution_count": 6,
   "id": "8d04b8b8",
   "metadata": {},
   "outputs": [],
   "source": [
    "def SelectAction (T):\n",
    "\n",
    "    global DPState\n",
    "    global DPCount\n",
    "    global epsilon\n",
    "    global explored\n",
    "\n",
    "    actions = DPState.get (str (T))\n",
    "    if actions == None:\n",
    "        actions = [0.5, 0.5, 0.5, 0.5, 0.5, 0.5, 0.5, 0.5, 0.5]\n",
    "        DPState[str (T)] = actions\n",
    "        DPCount[str (T)] = 0\n",
    "\n",
    "    explore = np.random.uniform (0, 1, 1)\n",
    "    if explore[0] > epsilon:\n",
    "        explored += 1\n",
    "        return TupleFromLinear (int (np.random.uniform (0, 9, 1)[0]))\n",
    "\n",
    "    action = actions.index (max (actions))\n",
    "    \n",
    "    return TupleFromLinear (action)\n"
   ]
  },
  {
   "cell_type": "code",
   "execution_count": 7,
   "id": "b624cabd",
   "metadata": {},
   "outputs": [],
   "source": [
    "def UpdateAction (T, row, column, update, useRule=False):\n",
    "    \n",
    "    index = 3 * row + column\n",
    "    key = str (T)\n",
    "\n",
    "    actions = DPState.get (key)\n",
    "    k = DPCount.get (key)\n",
    "\n",
    "    # None is \"impossible\" here\n",
    "    if useRule and k > 0:\n",
    "        reward = actions[index]\n",
    "        reward = reward + 1/k * (update - reward)\n",
    "        actions[index] = reward\n",
    "    else:\n",
    "        actions[index] = update\n",
    "\n",
    "    k += 1\n",
    "    DPCount[key] = k"
   ]
  },
  {
   "cell_type": "code",
   "execution_count": 8,
   "id": "c2dfdf15",
   "metadata": {},
   "outputs": [],
   "source": [
    "def Opponent (depth, T, player):\n",
    "\n",
    "    global moves\n",
    "    moves += 1\n",
    "\n",
    "    available = 9 - depth + 1\n",
    "    attempts = 0\n",
    "\n",
    "    actions = list (np.random.uniform (0, 1, available))\n",
    "    action = actions.index (max (actions)) + 1 # Not an index, but number of attempts\n",
    "\n",
    "    for row in range (0, 3):\n",
    "        for column in range (0, 3):\n",
    "\n",
    "            if T[row][column] == 0:\n",
    "                attempts += 1\n",
    "            \n",
    "            if attempts == action:\n",
    "                T[row][column] = player\n",
    "                won = ZeroSumGame (T, -3)\n",
    "                if won:\n",
    "                    T[row][column] = 0\n",
    "                    return 0.0\n",
    "                elif depth < 9:\n",
    "                    reward = Traverse (depth + 1, T, -player)\n",
    "                    T[row][column] = 0\n",
    "                    return reward\n",
    "                else:\n",
    "                    T[row][column] = 0\n",
    "                    return 0\n",
    "\n",
    "            if attempts > 9:\n",
    "                print (\"IMPOSSIBLE\", depth, T)\n",
    "                return\n",
    "        \n",
    "    return 0.0 # treating a draw like a loss\n"
   ]
  },
  {
   "cell_type": "code",
   "execution_count": 9,
   "id": "2b14b8ae",
   "metadata": {},
   "outputs": [],
   "source": [
    "def Traverse (depth, T, player):\n",
    "\n",
    "    global moves\n",
    "    moves += 1\n",
    "\n",
    "    while True:\n",
    "        \n",
    "        row, column = SelectAction (T)\n",
    "        reward = 0.0\n",
    "\n",
    "        if T0[row][column] == 0:\n",
    "                \n",
    "            T[row][column] = player\n",
    "            won = ZeroSumGame (T, 3)\n",
    "            if won:\n",
    "                T[row][column] = 0\n",
    "                UpdateAction (T, row, column, 1.0)\n",
    "                return 1.0\n",
    "                \n",
    "            if depth < 9:\n",
    "                reward = Opponent (depth + 1, T, -player)\n",
    "                T[row][column] = 0\n",
    "                UpdateAction (T, row, column, reward, True)\n",
    "            else:\n",
    "                T[row][column] = 0\n",
    "                UpdateAction (T, row, column, 0.0)\n",
    "                \n",
    "            return reward\n",
    "        else:\n",
    "            UpdateAction (T, row, column, 0.0) # action unavailable in this state\n"
   ]
  },
  {
   "cell_type": "code",
   "execution_count": 10,
   "id": "c53a8305",
   "metadata": {},
   "outputs": [],
   "source": [
    "for i in range (0, 100000):\n",
    "    Traverse (1, T0, 1)\n"
   ]
  },
  {
   "cell_type": "code",
   "execution_count": 11,
   "id": "46e7487c",
   "metadata": {},
   "outputs": [
    {
     "data": {
      "text/plain": [
       "(655252, 266268)"
      ]
     },
     "execution_count": 11,
     "metadata": {},
     "output_type": "execute_result"
    }
   ],
   "source": [
    "moves, explored"
   ]
  },
  {
   "cell_type": "code",
   "execution_count": 12,
   "id": "1bb2dba7",
   "metadata": {
    "scrolled": true
   },
   "outputs": [],
   "source": [
    "# DPState"
   ]
  },
  {
   "cell_type": "code",
   "execution_count": 13,
   "id": "0d3d5799",
   "metadata": {},
   "outputs": [
    {
     "data": {
      "text/plain": [
       "2423"
      ]
     },
     "execution_count": 13,
     "metadata": {},
     "output_type": "execute_result"
    }
   ],
   "source": [
    "len (DPCount)"
   ]
  },
  {
   "cell_type": "code",
   "execution_count": 14,
   "id": "a4a12b00",
   "metadata": {},
   "outputs": [],
   "source": [
    "def OpponentPlaying (depth, T, player):\n",
    "\n",
    "    available = 9 - depth + 1\n",
    "    attempts = 0\n",
    "\n",
    "    actions = list (np.random.uniform (0, 1, available))\n",
    "    action = actions.index (max (actions)) + 1 # Not an index, but number of attempts\n",
    "\n",
    "    for row in range (0, 3):\n",
    "        for column in range (0, 3):\n",
    "\n",
    "            if T[row][column] == 0:\n",
    "                attempts += 1\n",
    "            \n",
    "            if attempts == action:\n",
    "                T[row][column] = player\n",
    "                won = ZeroSumGame (T, -3)\n",
    "                if won:\n",
    "                    return -1\n",
    "                elif depth < 9:\n",
    "                    return Agent (depth + 1, T, -player)\n",
    "                else:\n",
    "                    return 0\n",
    "\n",
    "            if attempts > 9:\n",
    "                print (\"IMPOSSIBLE\", depth, T)\n",
    "                return\n",
    "\n",
    "    return 0.0 # treating a draw like a loss\n"
   ]
  },
  {
   "cell_type": "code",
   "execution_count": 15,
   "id": "46372b79",
   "metadata": {},
   "outputs": [],
   "source": [
    "def Agent (depth, T, player):\n",
    "\n",
    "    global moves\n",
    "    moves += 1\n",
    "\n",
    "    while True:\n",
    "        \n",
    "        row, column = SelectAction (T)\n",
    "        reward = 0.0\n",
    "\n",
    "        if T0[row][column] == 0:\n",
    "                \n",
    "            T[row][column] = player\n",
    "            won = ZeroSumGame (T, 3)\n",
    "            if won:\n",
    "                return 1\n",
    "                \n",
    "            elif depth < 9:\n",
    "                return OpponentPlaying (depth + 1, T, -player)\n",
    "\n",
    "            return 0\n"
   ]
  },
  {
   "cell_type": "code",
   "execution_count": 16,
   "id": "2ac76249",
   "metadata": {},
   "outputs": [],
   "source": [
    "T0 = T_Empty.copy ()"
   ]
  },
  {
   "cell_type": "code",
   "execution_count": 17,
   "id": "1294cd05",
   "metadata": {},
   "outputs": [
    {
     "data": {
      "text/plain": [
       "-1"
      ]
     },
     "execution_count": 17,
     "metadata": {},
     "output_type": "execute_result"
    }
   ],
   "source": [
    "Agent (1, T0, 1)"
   ]
  },
  {
   "cell_type": "code",
   "execution_count": 18,
   "id": "bcc7ecda",
   "metadata": {
    "scrolled": true
   },
   "outputs": [
    {
     "data": {
      "text/plain": [
       "array([[ 1,  0, -1],\n",
       "       [ 1,  0, -1],\n",
       "       [ 0,  1, -1]])"
      ]
     },
     "execution_count": 18,
     "metadata": {},
     "output_type": "execute_result"
    }
   ],
   "source": [
    "T0"
   ]
  },
  {
   "cell_type": "markdown",
   "id": "8b9fd9fe",
   "metadata": {},
   "source": [
    "metric = 0\n",
    "epsilon = 0.0\n",
    "\n",
    "for i in range (0, 10):\n",
    "    T0 = T_Empty.copy ()\n",
    "    success = Agent (1, T0, 1)\n",
    "    if success == 1:\n",
    "        metric += 1\n",
    "        print (\"WON!\")\n",
    "    elif success == -1:\n",
    "        print (\":-(\")\n",
    "    else:\n",
    "        print (\"DRAW\")\n",
    "\n",
    "    DisplayBoard (T0)\n",
    "\n",
    "metric"
   ]
  },
  {
   "cell_type": "code",
   "execution_count": 21,
   "id": "f9cd15c7",
   "metadata": {},
   "outputs": [
    {
     "name": "stdout",
     "output_type": "stream",
     "text": [
      "Wins\tDraws\tLosses\n"
     ]
    },
    {
     "data": {
      "text/plain": [
       "(0.5999, 0.271, 0.1291)"
      ]
     },
     "execution_count": 21,
     "metadata": {},
     "output_type": "execute_result"
    }
   ],
   "source": [
    "wins = 0\n",
    "losses = 0\n",
    "draws = 0\n",
    "trials = 10000\n",
    "\n",
    "for i in range (0, trials):\n",
    "    T0 = T_Empty.copy ()\n",
    "    success = Agent (1, T0, 1)\n",
    "    if success == 1:\n",
    "        wins += 1\n",
    "    elif success == -1:\n",
    "        losses += 1\n",
    "    else:\n",
    "        draws += 1\n",
    "\n",
    "    # DisplayBoard (T0)\n",
    "print (\"Wins\\tDraws\\tLosses\")\n",
    "wins/trials, losses/trials, draws/trials"
   ]
  }
 ],
 "metadata": {
  "kernelspec": {
   "display_name": "Python 3 (ipykernel)",
   "language": "python",
   "name": "python3"
  },
  "language_info": {
   "codemirror_mode": {
    "name": "ipython",
    "version": 3
   },
   "file_extension": ".py",
   "mimetype": "text/x-python",
   "name": "python",
   "nbconvert_exporter": "python",
   "pygments_lexer": "ipython3",
   "version": "3.9.10"
  }
 },
 "nbformat": 4,
 "nbformat_minor": 5
}
