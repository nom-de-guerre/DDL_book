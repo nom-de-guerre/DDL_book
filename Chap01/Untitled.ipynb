{
 "cells": [
  {
   "cell_type": "code",
   "execution_count": 1,
   "id": "76ca8c3b",
   "metadata": {},
   "outputs": [],
   "source": [
    "accumulate = 0"
   ]
  },
  {
   "cell_type": "code",
   "execution_count": 2,
   "id": "eaceae74",
   "metadata": {},
   "outputs": [],
   "source": [
    "for i in range (0,10):\n",
    "    accumulate += 0.1"
   ]
  },
  {
   "cell_type": "code",
   "execution_count": 3,
   "id": "0454f127",
   "metadata": {},
   "outputs": [
    {
     "data": {
      "text/plain": [
       "False"
      ]
     },
     "execution_count": 3,
     "metadata": {},
     "output_type": "execute_result"
    }
   ],
   "source": [
    "accumulate == 1.0"
   ]
  }
 ],
 "metadata": {
  "kernelspec": {
   "display_name": "Python 3 (ipykernel)",
   "language": "python",
   "name": "python3"
  },
  "language_info": {
   "codemirror_mode": {
    "name": "ipython",
    "version": 3
   },
   "file_extension": ".py",
   "mimetype": "text/x-python",
   "name": "python",
   "nbconvert_exporter": "python",
   "pygments_lexer": "ipython3",
   "version": "3.9.10"
  }
 },
 "nbformat": 4,
 "nbformat_minor": 5
}
